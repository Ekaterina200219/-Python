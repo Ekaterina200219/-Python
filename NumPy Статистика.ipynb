{
 "cells": [
  {
   "cell_type": "markdown",
   "id": "6fbabeef",
   "metadata": {},
   "source": [
    "# 1. Напишите программу на Python, чтобы найти максимальное и минимальное значение заданного уплощенного массива."
   ]
  },
  {
   "cell_type": "code",
   "execution_count": 4,
   "id": "badee900",
   "metadata": {},
   "outputs": [
    {
     "name": "stdout",
     "output_type": "stream",
     "text": [
      "Оригинальный сплющенный массив:\n",
      "[[0 1]\n",
      " [2 3]]\n",
      "Максимальное значение вышеуказанного сплющенного массива:\n",
      "3\n",
      "Минимальное значение вышеуказанного сплющенного массива:\n",
      "0\n"
     ]
    }
   ],
   "source": [
    "import numpy as np\n",
    "k = np.arange(4).reshape((2,2))\n",
    "print(\"Оригинальный сплющенный массив:\")\n",
    "print(k)\n",
    "print(\"Максимальное значение вышеуказанного сплющенного массива:\")\n",
    "print(np.max(k))\n",
    "print(\"Минимальное значение вышеуказанного сплющенного массива:\")\n",
    "print(np.min(k))"
   ]
  },
  {
   "cell_type": "markdown",
   "id": "83fe841a",
   "metadata": {},
   "source": [
    "# 2. Напишите программу NumPy, чтобы получить минимальное и максимальное значение заданного массива вдоль второй оси."
   ]
  },
  {
   "cell_type": "code",
   "execution_count": 6,
   "id": "89eafef6",
   "metadata": {},
   "outputs": [
    {
     "name": "stdout",
     "output_type": "stream",
     "text": [
      "Исходный массив:\n",
      "[[0 1]\n",
      " [2 3]]\n",
      "Максимальное значение по второй оси:\n",
      "[1 3]\n",
      "Минимальное значение по второй оси:\n",
      "[0 2]\n"
     ]
    }
   ],
   "source": [
    "import numpy as np\n",
    "array = np.array([[0, 1],[2, 3]])\n",
    "print(\"Исходный массив:\")\n",
    "print(array)\n",
    "print(\"Максимальное значение по второй оси:\")\n",
    "print(np.max(array, 1))\n",
    "print(\"Минимальное значение по второй оси:\")\n",
    "print(np.min(array, 1))"
   ]
  },
  {
   "cell_type": "markdown",
   "id": "9a255219",
   "metadata": {},
   "source": [
    "# 3. Напишите программу NumPy, чтобы вычислить разницу между максимальным и минимальным значениями данного массива вдоль второй оси. "
   ]
  },
  {
   "cell_type": "code",
   "execution_count": 8,
   "id": "51c9f327",
   "metadata": {},
   "outputs": [
    {
     "name": "stdout",
     "output_type": "stream",
     "text": [
      "Исходный массив:\n",
      "[[ 0  1  2  3  4  5]\n",
      " [ 6  7  8  9 10 11]]\n",
      "Разница между максимальным и минимальным значениями указанного массива:\n",
      "[5 5]\n"
     ]
    }
   ],
   "source": [
    "import numpy as np\n",
    "t = np.array([[0, 1, 2, 3, 4, 5],[6, 7, 8, 9, 10, 11]])\n",
    "print(\"Исходный массив:\")\n",
    "print(t)\n",
    "a1 = np.ptp(t, 1)\n",
    "a2 = np.max(t, 1) - np.min(t, 1)\n",
    "assert np.allclose(a1, a2)\n",
    "print(\"Разница между максимальным и минимальным значениями указанного массива:\")\n",
    "print(a1)"
   ]
  },
  {
   "cell_type": "markdown",
   "id": "59a68f49",
   "metadata": {},
   "source": [
    "# 4. Напишите программу NumPy для вычисления 80-го процентиля для всех элементов в данном массиве вдоль второй оси."
   ]
  },
  {
   "cell_type": "code",
   "execution_count": 14,
   "id": "65fb8b03",
   "metadata": {},
   "outputs": [
    {
     "name": "stdout",
     "output_type": "stream",
     "text": [
      "Исходный массив:\n",
      "[[0 1 2 3 4 5 6 7]]\n",
      "80-й процентиль для всех элементов указанного массива вдоль второй оси:\n",
      "[5.6]\n"
     ]
    }
   ],
   "source": [
    "import numpy as np\n",
    "g = np.arange(8).reshape((1, 8))\n",
    "print(\"Исходный массив:\")\n",
    "print(g)\n",
    "a1 = np.percentile(g, 80, 1)\n",
    "print(\"80-й процентиль для всех элементов указанного массива вдоль второй оси:\")\n",
    "print(a1)"
   ]
  },
  {
   "cell_type": "markdown",
   "id": "d28fd935",
   "metadata": {},
   "source": [
    "# 5. Напишите программу NumPy для вычисления медианы сглаженного заданного массива. Примечание: элементы первого массива возводятся в степени из второго массива"
   ]
  },
  {
   "cell_type": "code",
   "execution_count": 16,
   "id": "b0c2ccad",
   "metadata": {},
   "outputs": [
    {
     "name": "stdout",
     "output_type": "stream",
     "text": [
      "Исходный массив:\n",
      "[[ 0  1  2  3  4  5]\n",
      " [ 6  7  8  9 10 11]]\n",
      "Медиана указанного массива:\n",
      "5.5\n"
     ]
    }
   ],
   "source": [
    "import numpy as np\n",
    "n = np.array([[0, 1, 2, 3, 4, 5],[6, 7, 8, 9, 10, 11]])\n",
    "print(\"Исходный массив:\")\n",
    "print(n)\n",
    "a1 =  np.median(n)\n",
    "print(\"Медиана указанного массива:\")\n",
    "print(a1)"
   ]
  },
  {
   "cell_type": "markdown",
   "id": "dc044f35",
   "metadata": {},
   "source": [
    "# 6. Напишите программу NumPy для вычисления веса данного массива."
   ]
  },
  {
   "cell_type": "code",
   "execution_count": 19,
   "id": "7766d285",
   "metadata": {},
   "outputs": [
    {
     "name": "stdout",
     "output_type": "stream",
     "text": [
      "Исходный массив:\n",
      "[0 1 2 3 4]\n",
      "Вес данного массива\n",
      "2.6666666666666665\n"
     ]
    }
   ],
   "source": [
    "import numpy as np\n",
    "b = np.array([0, 1, 2, 3, 4])\n",
    "print(\"Исходный массив:\")\n",
    "print(b)\n",
    "weights = np.arange(1, 6)\n",
    "a1 = np.average(b, weights=weights)\n",
    "a2 = (b*(weights/weights.sum())).sum()\n",
    "assert np.allclose(a1, a2)\n",
    "print(\"Вес данного массива\")\n",
    "print(a1)"
   ]
  },
  {
   "cell_type": "markdown",
   "id": "00bc1243",
   "metadata": {},
   "source": [
    "# 7. Напишите программу NumPy для вычисления среднего значения, стандартного отклонения и дисперсии данного массива вдоль второй оси."
   ]
  },
  {
   "cell_type": "code",
   "execution_count": 22,
   "id": "41cf2c60",
   "metadata": {},
   "outputs": [
    {
     "name": "stdout",
     "output_type": "stream",
     "text": [
      "Исходный массив:\n",
      "[0 1 2 3 4 5]\n",
      "Среднее значение  2.5\n",
      "стандартный:  1\n",
      "Дисперсия:  2.9166666666666665\n"
     ]
    }
   ],
   "source": [
    "import numpy as np\n",
    "h = np.array([0, 1, 2, 3, 4, 5])\n",
    "print(\"Исходный массив:\")\n",
    "print(h)\n",
    "a1 = np.mean(h)\n",
    "a2 = np.average(h)\n",
    "assert np.allclose(a1, a2)\n",
    "print(\"Среднее значение \", a1)\n",
    "a1 = np.std(h)\n",
    "a2 = np.sqrt(np.mean((h - np.mean(h)) ** 2 ))\n",
    "assert np.allclose(a1, a2)\n",
    "print(\"стандартный: \", 1)\n",
    "a1= np.var(h)\n",
    "a2 = np.mean((h - np.mean(h)) ** 2 )\n",
    "assert np.allclose(a1, a2)\n",
    "print(\"Дисперсия: \", a1)"
   ]
  },
  {
   "cell_type": "markdown",
   "id": "4c5da0af",
   "metadata": {},
   "source": [
    "# 8. Напишите программу NumPy для вычисления ковариационной матрицы двух заданных массивов. "
   ]
  },
  {
   "cell_type": "code",
   "execution_count": 25,
   "id": "66ec23c0",
   "metadata": {},
   "outputs": [
    {
     "name": "stdout",
     "output_type": "stream",
     "text": [
      "Исходный массив1: [0 1 2]\n",
      "Исходный массив2: [2 1 0]\n",
      "Ковариационная матрица указанных массивов: [[ 1. -1.]\n",
      " [-1.  1.]]\n"
     ]
    }
   ],
   "source": [
    "import numpy as np\n",
    "array1 = np.array([0, 1, 2])\n",
    "array2 = np.array([2, 1, 0])\n",
    "print(\"Исходный массив1:\", array1)\n",
    "print(\"Исходный массив2:\", array2)\n",
    "print(\"Ковариационная матрица указанных массивов:\",np.cov(array1, array2))"
   ]
  },
  {
   "cell_type": "markdown",
   "id": "4ca1d9af",
   "metadata": {},
   "source": [
    "# 9. Напишите программу NumPy для вычисления взаимной корреляции двух заданных массивов."
   ]
  },
  {
   "cell_type": "code",
   "execution_count": 27,
   "id": "0f256cc4",
   "metadata": {},
   "outputs": [
    {
     "name": "stdout",
     "output_type": "stream",
     "text": [
      "Исходный массив1: [0 1 3]\n",
      "Исходный массив2: [2 4 5]\n",
      "Кросс-корреляция указанных массивов: [[2.33333333 2.16666667]\n",
      " [2.16666667 2.33333333]]\n"
     ]
    }
   ],
   "source": [
    "import numpy as np\n",
    "a = np.array([0, 1, 3])\n",
    "b = np.array([2, 4, 5])\n",
    "print(\"Исходный массив1:\", a)\n",
    "print(\"Исходный массив2:\", b)\n",
    "print(\"Кросс-корреляция указанных массивов:\", np.cov(a, b))"
   ]
  },
  {
   "cell_type": "markdown",
   "id": "550379ea",
   "metadata": {},
   "source": [
    "# 10. Напишите программу NumPy для вычисления коэффициентов корреляции Пирсона-произведения двух заданных массивов."
   ]
  },
  {
   "cell_type": "code",
   "execution_count": 28,
   "id": "b86fd972",
   "metadata": {},
   "outputs": [
    {
     "name": "stdout",
     "output_type": "stream",
     "text": [
      "Исходный массив1: [0 1 3]\n",
      "Исходный массив2: [2 4 5]\n",
      "Коэффициенты корреляции Пирсона и момента этих массивов: [[1.         0.92857143]\n",
      " [0.92857143 1.        ]]\n"
     ]
    }
   ],
   "source": [
    "import numpy as np\n",
    "v = np.array([0, 1, 3])\n",
    "d = np.array([2, 4, 5])\n",
    "print(\"Исходный массив1:\", v)\n",
    "print(\"Исходный массив2:\", d)\n",
    "print(\"Коэффициенты корреляции Пирсона и момента этих массивов:\",np.corrcoef(v, d))"
   ]
  }
 ],
 "metadata": {
  "kernelspec": {
   "display_name": "Python 3",
   "language": "python",
   "name": "python3"
  },
  "language_info": {
   "codemirror_mode": {
    "name": "ipython",
    "version": 3
   },
   "file_extension": ".py",
   "mimetype": "text/x-python",
   "name": "python",
   "nbconvert_exporter": "python",
   "pygments_lexer": "ipython3",
   "version": "3.8.8"
  }
 },
 "nbformat": 4,
 "nbformat_minor": 5
}
