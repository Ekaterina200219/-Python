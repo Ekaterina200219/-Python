{
 "cells": [
  {
   "cell_type": "markdown",
   "id": "1095cc5a",
   "metadata": {},
   "source": [
    "# 9. Напишите программу NumPy, чтобы добавить границу (заполненную нулями) вокруг существующего массива."
   ]
  },
  {
   "cell_type": "code",
   "execution_count": 4,
   "id": "fdfaec76",
   "metadata": {},
   "outputs": [
    {
     "name": "stdout",
     "output_type": "stream",
     "text": [
      "[[1. 1. 1.]\n",
      " [1. 1. 1.]\n",
      " [1. 1. 1.]]\n",
      "1 на границе и 0 внутри в массиве \n",
      "[[0. 0. 0. 0. 0.]\n",
      " [0. 1. 1. 1. 0.]\n",
      " [0. 1. 1. 1. 0.]\n",
      " [0. 1. 1. 1. 0.]\n",
      " [0. 0. 0. 0. 0.]]\n"
     ]
    }
   ],
   "source": [
    "import numpy as np\n",
    "k = np.ones((3,3))\n",
    "print(k)\n",
    "print(\"1 на границе и 0 внутри в массиве \")\n",
    "k = np.pad(k, pad_width=1, mode='constant', constant_values=0)\n",
    "print(k)"
   ]
  },
  {
   "cell_type": "markdown",
   "id": "e454bd58",
   "metadata": {},
   "source": [
    "# 11. Напишите программу NumPy для преобразования списка и кортежа в массивы."
   ]
  },
  {
   "cell_type": "code",
   "execution_count": 7,
   "id": "8ba90f1e",
   "metadata": {},
   "outputs": [
    {
     "name": "stdout",
     "output_type": "stream",
     "text": [
      "Список в массив:\n",
      "[1 2 3 4 5 6 7 8]\n",
      "Кортеж в массив:\n",
      "[[8 4 6]\n",
      " [1 2 3]]\n"
     ]
    }
   ],
   "source": [
    "import numpy as np\n",
    "list = [1, 2, 3, 4, 5, 6, 7, 8]\n",
    "print(\"Список в массив:\")\n",
    "print(np.asarray(list))\n",
    "corteg = [[8, 4, 6],[1, 2, 3]]\n",
    "print(\"Кортеж в массив:\")\n",
    "print(np.asarray(corteg))"
   ]
  },
  {
   "cell_type": "markdown",
   "id": "c972a835",
   "metadata": {},
   "source": [
    "# 13. Напишите программу NumPy для создания пустого и полного массива."
   ]
  },
  {
   "cell_type": "code",
   "execution_count": 9,
   "id": "95d7ed53",
   "metadata": {},
   "outputs": [
    {
     "name": "stdout",
     "output_type": "stream",
     "text": [
      "[[1.19856495e-311 3.16202013e-322 0.00000000e+000 0.00000000e+000]\n",
      " [1.19680563e-311 2.63223423e-052 1.24502537e-047 1.57353424e-076]\n",
      " [1.04117924e-071 1.51073040e+160 5.22212289e-037 5.49724813e+170]]\n",
      "[[6 6 6]\n",
      " [6 6 6]\n",
      " [6 6 6]]\n"
     ]
    }
   ],
   "source": [
    "import numpy as np\n",
    "#Создание пустого массива\n",
    "t = np.empty((3,4))\n",
    "print(t)\n",
    "#Создание полного массива \n",
    "k = np.full((3,3),6)\n",
    "print(k)"
   ]
  },
  {
   "cell_type": "markdown",
   "id": "cf18356d",
   "metadata": {},
   "source": [
    "# 15. Напишите программу NumPy, чтобы найти действительные и мнимые части массива комплексных чисел."
   ]
  },
  {
   "cell_type": "code",
   "execution_count": 11,
   "id": "80da5c83",
   "metadata": {},
   "outputs": [
    {
     "name": "stdout",
     "output_type": "stream",
     "text": [
      "[1.+0.j]\n",
      "[0.70710678+0.70710678j]\n",
      "Реальная часть массива:\n",
      "[1.]\n",
      "[0.70710678]\n",
      "Мнимая часть массива:\n",
      "[0.]\n",
      "[0.70710678]\n"
     ]
    }
   ],
   "source": [
    "import numpy as np\n",
    "wer = np.sqrt([1+0j])\n",
    "pop = np.sqrt([0+1j])\n",
    "print(wer)\n",
    "print(pop)\n",
    "print(\"Реальная часть массива:\")\n",
    "print(wer.real)\n",
    "print(pop.real)\n",
    "print(\"Мнимая часть массива:\")\n",
    "print(wer.imag)\n",
    "print(pop.imag)"
   ]
  },
  {
   "cell_type": "markdown",
   "id": "01293a5c",
   "metadata": {},
   "source": [
    "# 17. Напишите программу NumPy, чтобы проверить, присутствует ли каждый элемент одномерного массива во втором массиве."
   ]
  },
  {
   "cell_type": "code",
   "execution_count": 17,
   "id": "9a5aef35",
   "metadata": {},
   "outputs": [
    {
     "name": "stdout",
     "output_type": "stream",
     "text": [
      "[ 0 10 20 40 60]\n",
      "[ 0 40]\n",
      "Сравните каждый элемент Array1 и Array2\n",
      "[ True False False  True False]\n"
     ]
    }
   ],
   "source": [
    "import numpy as np\n",
    "Array1 = np.array([0, 10, 20, 40, 60])\n",
    "print(Array1)\n",
    "Array2 = np.array([0, 40])\n",
    "print(Array2)\n",
    "print(\"Сравните каждый элемент Array1 и Array2\")\n",
    "print(np.in1d(Array1, Array2))"
   ]
  },
  {
   "cell_type": "markdown",
   "id": "ac856194",
   "metadata": {},
   "source": [
    "# 19. Напишите программу NumPy, чтобы получить уникальные элементы массива. "
   ]
  },
  {
   "cell_type": "code",
   "execution_count": 19,
   "id": "7dc280d6",
   "metadata": {},
   "outputs": [
    {
     "name": "stdout",
     "output_type": "stream",
     "text": [
      "[10 10 20 20 30 30]\n",
      "Уникальные элементы вышеуказанного массива:\n",
      "[10 20 30]\n",
      "[[1 1]\n",
      " [2 3]]\n",
      "Уникальные элементы вышеуказанного массива:\n",
      "[1 2 3]\n"
     ]
    }
   ],
   "source": [
    "import numpy as np\n",
    "array = np.array([10, 10, 20, 20, 30, 30])\n",
    "print(array)\n",
    "print(\"Уникальные элементы вышеуказанного массива:\")\n",
    "print(np.unique(array))\n",
    "wer1 = np.array([[1, 1],[2, 3]])\n",
    "print(wer1)\n",
    "print(\"Уникальные элементы вышеуказанного массива:\")\n",
    "print(np.unique(wer1))"
   ]
  },
  {
   "cell_type": "markdown",
   "id": "0672de39",
   "metadata": {},
   "source": [
    "# 21. Напишите программу NumPy, чтобы найти набор исключений или двух массивов. Set exclusive-or вернет отсортированные, уникальные значения, которые находятся только в одном (а не в обоих) входных массивах."
   ]
  },
  {
   "cell_type": "code",
   "execution_count": 24,
   "id": "950f4233",
   "metadata": {},
   "outputs": [
    {
     "name": "stdout",
     "output_type": "stream",
     "text": [
      "[ 0 10 20 40 60 80]\n",
      "[10 30 40 50 70]\n",
      "Уникальные значения, которые есть только в одном (а не в обоих) входных массивах:\n",
      "[ 0 20 30 50 60 70 80]\n"
     ]
    }
   ],
   "source": [
    "import numpy as np\n",
    "Array1 = np.array([0,10, 20, 40, 60, 80])\n",
    "Array2 = np.array([10, 30, 40, 50, 70])\n",
    "print(Array1)\n",
    "print(Array2)\n",
    "print(\"Уникальные значения, которые есть только в одном (а не в обоих) входных массивах:\")\n",
    "print(np.setxor1d(Array1, Array2))"
   ]
  },
  {
   "cell_type": "markdown",
   "id": "2b56aeba",
   "metadata": {},
   "source": [
    "# 23. Напишите программу NumPy, чтобы проверить, все ли элементы массива имеют значение True. Примечание: 0 оценивается как False в NumPy."
   ]
  },
  {
   "cell_type": "code",
   "execution_count": 26,
   "id": "42c4c911",
   "metadata": {},
   "outputs": [
    {
     "name": "stdout",
     "output_type": "stream",
     "text": [
      "False\n",
      "True\n",
      "False\n",
      "True\n"
     ]
    }
   ],
   "source": [
    "import numpy as np\n",
    "print(np.all([[True,False],[True,True]]))\n",
    "print(np.all([[True,True],[True,True]]))\n",
    "print(np.all([67, 20, 0, -232]))\n",
    "print(np.all([90, 20, -232]))"
   ]
  },
  {
   "cell_type": "markdown",
   "id": "15308544",
   "metadata": {},
   "source": [
    "# 25. Напишите программу NumPy для построения массива путем повторения. "
   ]
  },
  {
   "cell_type": "code",
   "execution_count": 28,
   "id": "827a452f",
   "metadata": {},
   "outputs": [
    {
     "name": "stdout",
     "output_type": "stream",
     "text": [
      "Оригинальный массив\n",
      "[1 2 3 4]\n",
      "Повторяя 2 раза\n",
      "[1 2 3 4 1 2 3 4]\n",
      "Повторяя 3 раза \n",
      "[1 2 3 4 1 2 3 4 1 2 3 4]\n"
     ]
    }
   ],
   "source": [
    "import numpy as np\n",
    "y = np.array([1, 2, 3, 4])\n",
    "print(\"Оригинальный массив\")\n",
    "print(y)\n",
    "print(\"Повторяя 2 раза\")\n",
    "h = np.tile(y, 2)\n",
    "print(h)\n",
    "print(\"Повторяя 3 раза \")\n",
    "h = np.tile(y, 3)\n",
    "print(h)"
   ]
  },
  {
   "cell_type": "markdown",
   "id": "9813267e",
   "metadata": {},
   "source": [
    "# 27. Напишите программу NumPy, чтобы найти индексы максимальных и минимальных значений вдоль заданной оси массива."
   ]
  },
  {
   "cell_type": "code",
   "execution_count": 29,
   "id": "f9f80d05",
   "metadata": {},
   "outputs": [
    {
     "name": "stdout",
     "output_type": "stream",
     "text": [
      "[1 2 3 4 5 6]\n",
      "Максимальные значения: 5\n",
      "Минимальные значения: 0\n"
     ]
    }
   ],
   "source": [
    "import numpy as np\n",
    "array = np.array([1, 2, 3, 4, 5, 6])\n",
    "print(array)\n",
    "print(\"Максимальные значения:\", np.argmax(array))\n",
    "print(\"Минимальные значения:\", np.argmin(array))"
   ]
  }
 ],
 "metadata": {
  "kernelspec": {
   "display_name": "Python 3",
   "language": "python",
   "name": "python3"
  },
  "language_info": {
   "codemirror_mode": {
    "name": "ipython",
    "version": 3
   },
   "file_extension": ".py",
   "mimetype": "text/x-python",
   "name": "python",
   "nbconvert_exporter": "python",
   "pygments_lexer": "ipython3",
   "version": "3.8.8"
  }
 },
 "nbformat": 4,
 "nbformat_minor": 5
}
