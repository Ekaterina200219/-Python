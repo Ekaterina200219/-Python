{
 "cells": [
  {
   "cell_type": "markdown",
   "id": "82dd9377",
   "metadata": {},
   "source": [
    "# 1. Напишите программу NumPy для отображения всех дат месяца марта 2017 года."
   ]
  },
  {
   "cell_type": "code",
   "execution_count": 2,
   "id": "66d22807",
   "metadata": {},
   "outputs": [
    {
     "name": "stdout",
     "output_type": "stream",
     "text": [
      "Март 2017\n",
      "['2017-03-01' '2017-03-02' '2017-03-03' '2017-03-04' '2017-03-05'\n",
      " '2017-03-06' '2017-03-07' '2017-03-08' '2017-03-09' '2017-03-10'\n",
      " '2017-03-11' '2017-03-12' '2017-03-13' '2017-03-14' '2017-03-15'\n",
      " '2017-03-16' '2017-03-17' '2017-03-18' '2017-03-19' '2017-03-20'\n",
      " '2017-03-21' '2017-03-22' '2017-03-23' '2017-03-24' '2017-03-25'\n",
      " '2017-03-26' '2017-03-27' '2017-03-28' '2017-03-29' '2017-03-30'\n",
      " '2017-03-31']\n"
     ]
    }
   ],
   "source": [
    "import numpy as np\n",
    "print(\"Март 2017\")\n",
    "print(np.arange('2017-03', '2017-04', dtype='datetime64[D]'))"
   ]
  },
  {
   "cell_type": "markdown",
   "id": "504001d7",
   "metadata": {},
   "source": [
    "# 2. Напишите программу NumPy, чтобы получить даты вчера, сегодня и завтра. "
   ]
  },
  {
   "cell_type": "code",
   "execution_count": 8,
   "id": "f7168b3c",
   "metadata": {},
   "outputs": [
    {
     "name": "stdout",
     "output_type": "stream",
     "text": [
      "Вчера: 2021-12-14\n",
      "Сегодня: 2021-12-15\n",
      "Завтра: 2021-12-16\n"
     ]
    }
   ],
   "source": [
    "import numpy as np\n",
    "print(\"Вчера:\", np.datetime64('today', 'D') - np.timedelta64(1, 'D'))\n",
    "print(\"Сегодня:\", np.datetime64('today', 'D'))\n",
    "print(\"Завтра:\", np.datetime64('today', 'D') + np.timedelta64(1, 'D'))"
   ]
  },
  {
   "cell_type": "markdown",
   "id": "c74efa31",
   "metadata": {},
   "source": [
    "# 3. Напишите программу NumPy для подсчета количества дней определенного месяца."
   ]
  },
  {
   "cell_type": "code",
   "execution_count": 10,
   "id": "f11dc808",
   "metadata": {},
   "outputs": [
    {
     "name": "stdout",
     "output_type": "stream",
     "text": [
      " Количество дней, февраль 2016 года:\n",
      "29 days\n",
      "Количество дней, февраль 2017 года:\n",
      "28 days\n",
      "Количество дней, февраль 2018 года:\n",
      "28 days\n"
     ]
    }
   ],
   "source": [
    "import numpy as np\n",
    "print(\" Количество дней, февраль 2016 года:\")\n",
    "print(np.datetime64('2016-03-01') - np.datetime64('2016-02-01'))\n",
    "print(\"Количество дней, февраль 2017 года:\")\n",
    "print(np.datetime64('2017-03-01') - np.datetime64('2017-02-01'))\n",
    "print(\"Количество дней, февраль 2018 года:\")\n",
    "print(np.datetime64('2018-03-01') - np.datetime64('2018-02-01'))"
   ]
  },
  {
   "cell_type": "markdown",
   "id": "4dce6117",
   "metadata": {},
   "source": [
    "# 4. Напишите программу NumPy для создания 24 объектов python datetime.datetime (один объект на каждый час), а затем поместите ее в массив numpy."
   ]
  },
  {
   "cell_type": "code",
   "execution_count": 12,
   "id": "6f81ab34",
   "metadata": {},
   "outputs": [
    {
     "name": "stdout",
     "output_type": "stream",
     "text": [
      "[datetime.datetime(2000, 1, 1, 0, 0) datetime.datetime(2000, 1, 1, 1, 0)\n",
      " datetime.datetime(2000, 1, 1, 2, 0) datetime.datetime(2000, 1, 1, 3, 0)\n",
      " datetime.datetime(2000, 1, 1, 4, 0) datetime.datetime(2000, 1, 1, 5, 0)\n",
      " datetime.datetime(2000, 1, 1, 6, 0) datetime.datetime(2000, 1, 1, 7, 0)\n",
      " datetime.datetime(2000, 1, 1, 8, 0) datetime.datetime(2000, 1, 1, 9, 0)\n",
      " datetime.datetime(2000, 1, 1, 10, 0) datetime.datetime(2000, 1, 1, 11, 0)\n",
      " datetime.datetime(2000, 1, 1, 12, 0) datetime.datetime(2000, 1, 1, 13, 0)\n",
      " datetime.datetime(2000, 1, 1, 14, 0) datetime.datetime(2000, 1, 1, 15, 0)\n",
      " datetime.datetime(2000, 1, 1, 16, 0) datetime.datetime(2000, 1, 1, 17, 0)\n",
      " datetime.datetime(2000, 1, 1, 18, 0) datetime.datetime(2000, 1, 1, 19, 0)\n",
      " datetime.datetime(2000, 1, 1, 20, 0) datetime.datetime(2000, 1, 1, 21, 0)\n",
      " datetime.datetime(2000, 1, 1, 22, 0) datetime.datetime(2000, 1, 1, 23, 0)]\n"
     ]
    }
   ],
   "source": [
    "import numpy as np\n",
    "import datetime\n",
    "time = datetime.datetime(2000, 1, 1)\n",
    "dt_array = np.array([time + datetime.timedelta(hours=i) for i in range(24)])\n",
    "print(dt_array)"
   ]
  },
  {
   "cell_type": "markdown",
   "id": "2420355b",
   "metadata": {},
   "source": [
    "# 5. Напишите программу NumPy, чтобы найти первый понедельник мая 2017 года."
   ]
  },
  {
   "cell_type": "code",
   "execution_count": 15,
   "id": "af37a8a6",
   "metadata": {},
   "outputs": [
    {
     "name": "stdout",
     "output_type": "stream",
     "text": [
      " Первый понедельник мая 2017 года:\n",
      "2017-05-01\n"
     ]
    }
   ],
   "source": [
    "import numpy as np\n",
    "print(\" Первый понедельник мая 2017 года:\")\n",
    "print(np.busday_offset('2017-05', 0, roll='forward', weekmask='Mon'))"
   ]
  },
  {
   "cell_type": "markdown",
   "id": "0a042a5b",
   "metadata": {},
   "source": [
    "# 6. Напишите программу NumPy, чтобы узнать количество будних дней в марте 2017 года. Примечание: по умолчанию \"busday\" с понедельника по пятницу, действительные дни."
   ]
  },
  {
   "cell_type": "code",
   "execution_count": 17,
   "id": "6a13883e",
   "metadata": {},
   "outputs": [
    {
     "name": "stdout",
     "output_type": "stream",
     "text": [
      "Количество дней недели в марте 2017 года:\n",
      "23\n"
     ]
    }
   ],
   "source": [
    "import numpy as np\n",
    "print(\"Количество дней недели в марте 2017 года:\")\n",
    "print(np.busday_count('2017-03', '2017-04'))"
   ]
  },
  {
   "cell_type": "markdown",
   "id": "0872b027",
   "metadata": {},
   "source": [
    "# 7. Напишите программу NumPy для преобразования numy datetime64 в метку времени.\n"
   ]
  },
  {
   "cell_type": "code",
   "execution_count": 19,
   "id": "97bc78f5",
   "metadata": {},
   "outputs": [
    {
     "name": "stdout",
     "output_type": "stream",
     "text": [
      "Текущая дата:\n",
      "2021-12-15 13:58:57.453195\n",
      "Отметка: \n",
      "1639576737.453195\n",
      "UTC от отметки времени:\n",
      "2021-12-15 13:58:57.453195\n"
     ]
    },
    {
     "name": "stderr",
     "output_type": "stream",
     "text": [
      "<ipython-input-19-34945b951f79>:7: DeprecationWarning: parsing timezone aware datetimes is deprecated; this will raise an error in the future\n",
      "  k = (dt64 - np.datetime64('1970-01-01T00:00:00Z')) / np.timedelta64(1, 's')\n"
     ]
    }
   ],
   "source": [
    "import numpy as np\n",
    "from datetime import datetime\n",
    "t = datetime.utcnow()\n",
    "print(\"Текущая дата:\")\n",
    "print(t)\n",
    "dt64 = np.datetime64(t)\n",
    "k = (dt64 - np.datetime64('1970-01-01T00:00:00Z')) / np.timedelta64(1, 's')\n",
    "print(\"Отметка: \")\n",
    "print(k)\n",
    "print(\"UTC от отметки времени:\")\n",
    "print(datetime.utcfromtimestamp(k))"
   ]
  }
 ],
 "metadata": {
  "kernelspec": {
   "display_name": "Python 3",
   "language": "python",
   "name": "python3"
  },
  "language_info": {
   "codemirror_mode": {
    "name": "ipython",
    "version": 3
   },
   "file_extension": ".py",
   "mimetype": "text/x-python",
   "name": "python",
   "nbconvert_exporter": "python",
   "pygments_lexer": "ipython3",
   "version": "3.8.8"
  }
 },
 "nbformat": 4,
 "nbformat_minor": 5
}
