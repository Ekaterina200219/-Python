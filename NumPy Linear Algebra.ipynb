{
 "cells": [
  {
   "cell_type": "markdown",
   "id": "4f462984",
   "metadata": {},
   "source": [
    "# 1. Напишите программу NumPy для вычисления умножения двух заданных матриц."
   ]
  },
  {
   "cell_type": "code",
   "execution_count": 8,
   "id": "bdbc0975",
   "metadata": {},
   "outputs": [
    {
     "name": "stdout",
     "output_type": "stream",
     "text": [
      "умножения двух заданных матриц\n",
      "[[13 20]\n",
      " [15 26]]\n"
     ]
    }
   ],
   "source": [
    "import numpy as np\n",
    "array1 = [[3, 4],[2, 9]]\n",
    "array2 = [[3, 4],[1, 2]]\n",
    "res1 = np.dot(array1, array2)\n",
    "print(\"умножения двух заданных матриц\")\n",
    "print(res1)"
   ]
  },
  {
   "cell_type": "markdown",
   "id": "1fb58514",
   "metadata": {},
   "source": [
    "# 3. Напишите программу NumPy для вычисления перекрестного произведения двух заданных векторов. "
   ]
  },
  {
   "cell_type": "code",
   "execution_count": 10,
   "id": "03a6b188",
   "metadata": {},
   "outputs": [
    {
     "name": "stdout",
     "output_type": "stream",
     "text": [
      "произведение двух указанных векторов (array1, array2):\n",
      "[ 0 -5]\n",
      "произведение двух указанных векторов (array2, array1):\n",
      "[0 5]\n"
     ]
    }
   ],
   "source": [
    "import numpy as np\n",
    "array1 = [[3, 4],[2, 9]]\n",
    "array2 = [[3, 4],[1, 2]]\n",
    "res1 = np.cross(array1, array2)\n",
    "res2 = np.cross(array2, array1)\n",
    "print(\"произведение двух указанных векторов (array1, array2):\")\n",
    "print(res1)\n",
    "print(\"произведение двух указанных векторов (array2, array1):\")\n",
    "print(res2)"
   ]
  },
  {
   "cell_type": "markdown",
   "id": "c851468e",
   "metadata": {},
   "source": [
    "# 7. Напишите программу NumPy для вычисления собственных значений и правых собственных векторов данного квадратного массива."
   ]
  },
  {
   "cell_type": "code",
   "execution_count": 12,
   "id": "a5c787e7",
   "metadata": {},
   "outputs": [
    {
     "name": "stdout",
     "output_type": "stream",
     "text": [
      "a\n",
      " [[ 2 -7]\n",
      " [ 9  0]]\n",
      "Собственные значения указанной матрицы [1.+7.87400787j 1.-7.87400787j]\n",
      "Собственные векторы указанной матрицы [[0.08333333+0.65616732j 0.08333333-0.65616732j]\n",
      " [0.75      +0.j         0.75      -0.j        ]]\n"
     ]
    }
   ],
   "source": [
    "import numpy as np\n",
    "g = np.mat(\"2 -7;9 0\")\n",
    "print(\"a\\n\", g)\n",
    "q, v = np.linalg.eig(g) \n",
    "print( \"Собственные значения указанной матрицы\",q)\n",
    "print( \"Собственные векторы указанной матрицы\",v)"
   ]
  },
  {
   "cell_type": "markdown",
   "id": "78338372",
   "metadata": {},
   "source": [
    "# 8. Напишите программу NumPy для вычисления произведения Кронекера из двух заданных многомерных массивов."
   ]
  },
  {
   "cell_type": "code",
   "execution_count": 20,
   "id": "646a0134",
   "metadata": {},
   "outputs": [
    {
     "name": "stdout",
     "output_type": "stream",
     "text": [
      "[1 3 9]\n",
      "[2 1 0]\n",
      "Произведение Кронекера из указанных массивов:\n",
      "[ 2  1  0  6  3  0 18  9  0]\n",
      "[[0 1 2]\n",
      " [3 4 5]\n",
      " [6 7 8]]\n",
      "[[ 9 10 11]\n",
      " [12 13 14]\n",
      " [15 16 17]]\n",
      "Произведение Кронекера из указанных массивов:\n",
      "[[  0   0   0   9  10  11  18  20  22]\n",
      " [  0   0   0  12  13  14  24  26  28]\n",
      " [  0   0   0  15  16  17  30  32  34]\n",
      " [ 27  30  33  36  40  44  45  50  55]\n",
      " [ 36  39  42  48  52  56  60  65  70]\n",
      " [ 45  48  51  60  64  68  75  80  85]\n",
      " [ 54  60  66  63  70  77  72  80  88]\n",
      " [ 72  78  84  84  91  98  96 104 112]\n",
      " [ 90  96 102 105 112 119 120 128 136]]\n"
     ]
    }
   ],
   "source": [
    "import numpy as np\n",
    "f = np.array([1,3,9])\n",
    "w = np.array([2,1,0])\n",
    "print(f)\n",
    "print(w)\n",
    "res =  np.kron(f, w)\n",
    "print(\"Произведение Кронекера из указанных массивов:\")\n",
    "print(res)\n",
    "j = np.arange(9).reshape(3, 3)\n",
    "r = np.arange(9, 18).reshape(3, 3)\n",
    "print(j)\n",
    "print(r)\n",
    "res = np.kron(j, r)\n",
    "print(\"Произведение Кронекера из указанных массивов:\")\n",
    "print(res)"
   ]
  },
  {
   "cell_type": "markdown",
   "id": "8a16187e",
   "metadata": {},
   "source": [
    "# 11. Напишите программу NumPy для вычисления определителя массива. "
   ]
  },
  {
   "cell_type": "code",
   "execution_count": 22,
   "id": "97ad478a",
   "metadata": {},
   "outputs": [
    {
     "name": "stdout",
     "output_type": "stream",
     "text": [
      "[[ 1 34]\n",
      " [ 3  4]]\n",
      "Определитель указанного массива:\n",
      "-98.00000000000004\n"
     ]
    }
   ],
   "source": [
    "import numpy as np\n",
    "w = np.array([[1,34],[3,4]])\n",
    "print(w)\n",
    "res =  np.linalg.det(w)\n",
    "print(\"Определитель указанного массива:\")\n",
    "print(res)"
   ]
  },
  {
   "cell_type": "markdown",
   "id": "04e67cee",
   "metadata": {},
   "source": [
    "# 17. Напишите программу NumPy, чтобы получить факторизацию qr для данного массива. "
   ]
  },
  {
   "cell_type": "code",
   "execution_count": 24,
   "id": "55d7e8db",
   "metadata": {},
   "outputs": [
    {
     "name": "stdout",
     "output_type": "stream",
     "text": [
      "[[ 32  12 -45]\n",
      " [ 12  21 -78]\n",
      " [-32 -90  98]]\n",
      "qr факторизация указанного массива:\n",
      "b=\n",
      " [[-0.68348613  0.71267754 -0.15791593]\n",
      " [-0.2563073  -0.0317451   0.96607392]\n",
      " [ 0.68348613  0.70077313  0.20436179]] \n",
      "a=\n",
      " [[-46.81879964 -75.09803811 117.73048523]\n",
      " [  0.         -55.184098    39.08139503]\n",
      " [  0.           0.         -48.22009342]]\n"
     ]
    }
   ],
   "source": [
    "import numpy as np\n",
    "e = np.array([[32, 12, -45], [12, 21, -78], [-32, -90, 98]], dtype=np.int32)\n",
    "print(e)\n",
    "b, a = np.linalg.qr(e)\n",
    "print(\"qr факторизация указанного массива:\")\n",
    "print( \"b=\\n\", b, \"\\na=\\n\", a)"
   ]
  },
  {
   "cell_type": "markdown",
   "id": "b57cfea1",
   "metadata": {},
   "source": [
    "# 18. Напишите программу NumPy для вычисления коэффициента данного массива путем разложения по сингулярным значениям.\n"
   ]
  },
  {
   "cell_type": "code",
   "execution_count": 26,
   "id": "18057c01",
   "metadata": {},
   "outputs": [
    {
     "name": "stdout",
     "output_type": "stream",
     "text": [
      "[[  4.   0.   0.   0.   8.]\n",
      " [  0.   0.   9.   0.   0.]\n",
      " [  0.   0.   0.   0.   0.]\n",
      " [  0. 212.   0.   0.   0.]]\n",
      "Коэффициент заданного массива по сингулярному разложению:\n",
      "l=\n",
      " [[ 0.  0.  1.  0.]\n",
      " [ 0.  1.  0.  0.]\n",
      " [ 0.  0.  0. -1.]\n",
      " [ 1.  0.  0.  0.]] \n",
      "a=\n",
      " [212.         9.         8.944272   0.      ] \n",
      "q=\n",
      " [[-0.         1.         0.         0.         0.       ]\n",
      " [-0.         0.         1.         0.         0.       ]\n",
      " [ 0.4472136  0.         0.         0.         0.8944272]\n",
      " [ 0.         0.         0.         1.         0.       ]]\n"
     ]
    }
   ],
   "source": [
    "import numpy as np\n",
    "k = np.array([[4, 0, 0, 0, 8], [0, 0, 9, 0, 0], [0, 0, 0, 0, 0], [0, 212, 0, 0, 0]], dtype=np.float32)\n",
    "print(k)\n",
    "l, a, q = np.linalg.svd(k, full_matrices=False)\n",
    "g, u = np.linalg.qr(k)\n",
    "print(\"Коэффициент заданного массива по сингулярному разложению:\")\n",
    "print(\"l=\\n\", l, \"\\na=\\n\", a, \"\\nq=\\n\", q)"
   ]
  }
 ],
 "metadata": {
  "kernelspec": {
   "display_name": "Python 3",
   "language": "python",
   "name": "python3"
  },
  "language_info": {
   "codemirror_mode": {
    "name": "ipython",
    "version": 3
   },
   "file_extension": ".py",
   "mimetype": "text/x-python",
   "name": "python",
   "nbconvert_exporter": "python",
   "pygments_lexer": "ipython3",
   "version": "3.8.8"
  }
 },
 "nbformat": 4,
 "nbformat_minor": 5
}
