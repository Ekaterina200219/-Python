{
 "cells": [
  {
   "cell_type": "markdown",
   "id": "9065a25f",
   "metadata": {},
   "source": [
    "# 1. Напишите программу NumPy для сортировки заданного массива формы 2 вдоль первой оси, последней оси и на плоском массиве.\n"
   ]
  },
  {
   "cell_type": "code",
   "execution_count": 2,
   "id": "d4074259",
   "metadata": {},
   "outputs": [
    {
     "name": "stdout",
     "output_type": "stream",
     "text": [
      "[[10 40]\n",
      " [30 20]]\n",
      "Отсортируйте массив по первой оси:\n",
      "[[10 20]\n",
      " [30 40]]\n",
      "Отсортируйте массив по последней оси:\n",
      "[[10 40]\n",
      " [20 30]]\n",
      "Сортировать уплощенный массив:\n",
      "[10 20 30 40]\n"
     ]
    }
   ],
   "source": [
    "import numpy as np\n",
    "g = np.array([[10, 40],[30, 20]])\n",
    "print(g)\n",
    "print(\"Отсортируйте массив по первой оси:\")\n",
    "print(np.sort(g, axis=0))\n",
    "print(\"Отсортируйте массив по последней оси:\")\n",
    "print(np.sort(g))\n",
    "print(\"Сортировать уплощенный массив:\")\n",
    "print(np.sort(g, axis=None))"
   ]
  },
  {
   "cell_type": "markdown",
   "id": "7e82dd40",
   "metadata": {},
   "source": [
    "# 2. Напишите программу NumPy для создания структурированного массива из заданного имени ученика, роста, класса и их типов данных. Теперь рассортируйте массив по высоте."
   ]
  },
  {
   "cell_type": "code",
   "execution_count": 11,
   "id": "f9e6201f",
   "metadata": {},
   "outputs": [
    {
     "name": "stdout",
     "output_type": "stream",
     "text": [
      "[(b'James ', 5, 48.5 ) (b'Nail', 6, 52.5 ) (b'Paul ', 5, 42.1 )\n",
      " (b'Pit ', 5, 40.11)]\n",
      "Сортировать по высоте\n",
      "[(b'Pit ', 5, 40.11) (b'Paul ', 5, 42.1 ) (b'James ', 5, 48.5 )\n",
      " (b'Nail', 6, 52.5 )]\n"
     ]
    }
   ],
   "source": [
    "import numpy as np\n",
    "a = [('name', 'S15'), ('class', int), ('height', float)]\n",
    "fer = [(b'James ', 5, 48.5),(b'Nail', 6, 52.5),(b'Paul ', 5, 42.1),(b'Pit ', 5, 40.11)]\n",
    "h = np.array(fer, dtype=a)                \n",
    "print(h)\n",
    "print(\"Сортировать по высоте\")\n",
    "print(np.sort(h, order='height'))  "
   ]
  },
  {
   "cell_type": "markdown",
   "id": "7faa0c88",
   "metadata": {},
   "source": [
    "# 3. Напишите программу NumPy для создания структурированного массива из заданного имени ученика, роста, класса и их типов данных. Теперь сортируйте по классу, затем по высоте, если класс равен."
   ]
  },
  {
   "cell_type": "code",
   "execution_count": 13,
   "id": "6301b791",
   "metadata": {},
   "outputs": [
    {
     "name": "stdout",
     "output_type": "stream",
     "text": [
      "[(b'James ', 5, 48.5 ) (b'Nail', 6, 52.5 ) (b'Paul ', 5, 42.1 )\n",
      " (b'Pit ', 5, 40.11)]\n",
      "Сортировка по классу, затем высота, если класс равен:\n",
      "[(b'Pit ', 5, 40.11) (b'Paul ', 5, 42.1 ) (b'James ', 5, 48.5 )\n",
      " (b'Nail', 6, 52.5 )]\n"
     ]
    }
   ],
   "source": [
    "import numpy as np\n",
    "a = [('name', 'S15'), ('class', int), ('height', float)]\n",
    "fer = [(b'James ', 5, 48.5),(b'Nail', 6, 52.5),(b'Paul ', 5, 42.1),(b'Pit ', 5, 40.11)]\n",
    "h = np.array(fer, dtype=a)                \n",
    "print(h)\n",
    "print(\"Сортировка по классу, затем высота, если класс равен:\")\n",
    "print(np.sort(h, order=['class', 'height']))"
   ]
  },
  {
   "cell_type": "markdown",
   "id": "892cac11",
   "metadata": {},
   "source": [
    "# 4. Напишите программу NumPy для сортировки идентификатора ученика с ростом роста ученика по заданному идентификатору ученика и росту. Выведите целочисленные индексы, которые описывают порядок сортировки по нескольким столбцам и отсортированным данным. "
   ]
  },
  {
   "cell_type": "code",
   "execution_count": 19,
   "id": "5657b104",
   "metadata": {},
   "outputs": [
    {
     "name": "stdout",
     "output_type": "stream",
     "text": [
      "Сортированные индексы:\n",
      "[5 6 0 3 1 2 4]\n",
      "Сортированные данные:\n",
      "345 20.0\n",
      "700 32.0\n",
      "345 50.0\n",
      "789 51.0\n",
      "123 52.0\n",
      "67 55.0\n",
      "367 88.0\n"
     ]
    }
   ],
   "source": [
    "import numpy as np\n",
    "student_id = np.array([345, 123, 67, 789, 367, 345, 700])\n",
    "student_height = np.array([50., 52., 55., 51., 88., 20., 32.0])\n",
    "index = np.lexsort((student_id, student_height))\n",
    "print(\"Сортированные индексы:\")\n",
    "print(index)\n",
    "print(\"Сортированные данные:\")\n",
    "for n in index:\n",
    "  print(student_id[n], student_height[n])"
   ]
  },
  {
   "cell_type": "markdown",
   "id": "94124f3c",
   "metadata": {},
   "source": [
    "# 5. Напишите программу NumPy, чтобы получить индексы отсортированных элементов данного массива."
   ]
  },
  {
   "cell_type": "code",
   "execution_count": 20,
   "id": "b76cac06",
   "metadata": {},
   "outputs": [
    {
     "name": "stdout",
     "output_type": "stream",
     "text": [
      "[1023 5202 6230 1671 1682 5241 4532]\n",
      "Индексы отсортированных элементов данного массива:\n",
      "[0 3 4 6 1 5 2]\n"
     ]
    }
   ],
   "source": [
    "import numpy as np\n",
    "j = np.array([1023, 5202, 6230, 1671, 1682, 5241, 4532])\n",
    "print(j)\n",
    "u = np.argsort(j)\n",
    "print(\"Индексы отсортированных элементов данного массива:\")\n",
    "print(u)"
   ]
  }
 ],
 "metadata": {
  "kernelspec": {
   "display_name": "Python 3",
   "language": "python",
   "name": "python3"
  },
  "language_info": {
   "codemirror_mode": {
    "name": "ipython",
    "version": 3
   },
   "file_extension": ".py",
   "mimetype": "text/x-python",
   "name": "python",
   "nbconvert_exporter": "python",
   "pygments_lexer": "ipython3",
   "version": "3.8.8"
  }
 },
 "nbformat": 4,
 "nbformat_minor": 5
}
