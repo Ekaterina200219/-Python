{
 "cells": [
  {
   "cell_type": "markdown",
   "id": "40a7bcc3",
   "metadata": {},
   "source": [
    "# Рабочая тетрадь 5"
   ]
  },
  {
   "cell_type": "markdown",
   "id": "b9eb0f71",
   "metadata": {},
   "source": [
    "1.2.1 Пример.\n",
    "Необходимо разработать виртуальную модель процесса обучения. В\n",
    "программе должны быть объекты-ученики, учитель, кладезь знаний.\n",
    "Потребуется три класса – \"учитель\", \"ученик\", \"данные\". Учитель и\n",
    "ученик во многом похожи, оба – люди. Значит, их классы могут\n",
    "принадлежать одному надклассу \"человек\". Однако в контексте данной\n",
    "задачи у учителя и ученика вряд ли найдутся общие атрибуты. Определим,\n",
    "что должны уметь объекты для решения задачи \"увеличить знания\":\n",
    "• Ученик должен уметь брать информацию и превращать ее в свои\n",
    "знания.\n",
    "• Учитель должен уметь учить группу учеников.\n",
    "• Данные могут представлять собой список знаний. Элементы будут\n",
    "извлекаться по индексу."
   ]
  },
  {
   "cell_type": "code",
   "execution_count": 3,
   "id": "d351ee7d",
   "metadata": {},
   "outputs": [
    {
     "name": "stdout",
     "output_type": "stream",
     "text": [
      "['inheritance']\n",
      "['inheritance', 'class']\n"
     ]
    }
   ],
   "source": [
    "class Data:\n",
    "    def __init__(self, *info):\n",
    "        self.info = list(info)\n",
    "    def __getitem__(self, i):\n",
    "        return self.info[i]\n",
    "    \n",
    "class Teacher:\n",
    "    def teach(self, info, *pupil):\n",
    "        for i in pupil:\n",
    "            i.take(info)\n",
    "            \n",
    "class Pupil:\n",
    "    def __init__(self):\n",
    "        self.knowledge = []\n",
    "    def take(self, info):\n",
    "        self.knowledge.append(info)\n",
    "        \n",
    "lesson = Data('class', 'object', 'inheritance', 'polymorphism', 'encapsulation')\n",
    "marIvanna = Teacher()\n",
    "vasy = Pupil()\n",
    "pety = Pupil()\n",
    "marIvanna.teach(lesson[2], vasy, pety)\n",
    "marIvanna.teach(lesson[0], pety)\n",
    "print(vasy.knowledge)\n",
    "print(pety.knowledge)"
   ]
  },
  {
   "cell_type": "markdown",
   "id": "76bb8386",
   "metadata": {},
   "source": [
    "1.2.2 Пример.\n",
    "Напишите программу по следующему описанию. Есть класс \"Воин\". От\n",
    "него создаются два экземпляра-юнита. Каждому устанавливается здоровье\n",
    "в 100 очков. В случайном порядке они бьют друг друга. Тот, кто бьет,\n",
    "здоровья не теряет. У того, кого бьют, оно уменьшается на 20 очков от\n",
    "одного удара. После каждого удара надо выводить сообщение, какой юнит\n",
    "атаковал, и сколько у противника осталось здоровья. Как только у кого-то\n",
    "заканчивается ресурс здоровья, программа завершается сообщением о том,\n",
    "кто одержал победу."
   ]
  },
  {
   "cell_type": "code",
   "execution_count": 4,
   "id": "5b0fdaf0",
   "metadata": {},
   "outputs": [
    {
     "name": "stdout",
     "output_type": "stream",
     "text": [
      "Enter 1 to attack. Enter 2 to stop program:1\n",
      "Warrior2  has attacked\n",
      "80  left\n",
      "Enter 1 to let some warrior attack:1\n",
      "Warrior2  has attacked\n",
      "60  left\n",
      "Enter 1 to let some warrior attack:1\n",
      "Warrior2  has attacked\n",
      "40  left\n",
      "Enter 1 to let some warrior attack:1\n",
      "Warrior1  has attacked\n",
      "80  left\n",
      "Enter 1 to let some warrior attack:1\n",
      "Warrior2  has attacked\n",
      "20  left\n",
      "Enter 1 to let some warrior attack:1\n",
      "Warrior2  has attacked\n",
      "0  left\n",
      "Warrior2  has won\n",
      "Enter 1 to let some warrior attack:1\n",
      "Warrior2  has attacked\n",
      "0  left\n",
      "Warrior2  has won\n",
      "Enter 1 to let some warrior attack:1\n",
      "Warrior2  has attacked\n",
      "0  left\n",
      "Warrior2  has won\n",
      "Enter 1 to let some warrior attack:2\n"
     ]
    }
   ],
   "source": [
    "import random\n",
    "class Warrior:\n",
    "    def __init__(self,health):\n",
    "        self.health = health\n",
    "    \n",
    "    def hit(self,target,target1):\n",
    "        if target.health > 0:\n",
    "            target.health -= 20\n",
    "        if target1 == warrior1:\n",
    "            target1 = \"Warrior1\"\n",
    "        if target1 == warrior2:\n",
    "            target1 = \"Warrior2\"\n",
    "        print(target1, \" has attacked\")\n",
    "        print(target.health, \" left\")\n",
    "        if target.health == 0:\n",
    "            print(target1, \" has won\")\n",
    "            \n",
    "warrior1 = Warrior(100)\n",
    "warrior2 = Warrior(100)\n",
    "q = int(input(\"Enter 1 to attack. Enter 2 to stop program:\"))\n",
    "\n",
    "while q != 2:\n",
    "    if q == 1:\n",
    "        j = random.randint(1,3)\n",
    "        if j % 2 == 0:\n",
    "            warrior1.hit(warrior2,warrior1)\n",
    "            q = int(input(\"Enter 1 to let some warrior attack:\"))\n",
    "        else:\n",
    "            warrior2.hit(warrior1,warrior2)\n",
    "            q = int(input(\"Enter 1 to let some warrior attack:\"))\n",
    "    else:\n",
    "        print(\"Wrong input.\")\n",
    "        break"
   ]
  },
  {
   "cell_type": "markdown",
   "id": "b416429e",
   "metadata": {},
   "source": [
    "1.2.3 Пример. \n",
    "Создайте класс по работе с дробями. В классе должна быть\n",
    "реализована следующая функциональность:\n",
    "− сложение дробей;\n",
    "− вычитание дробей;\n",
    "− умножение дробей;\n",
    "− деление дробей."
   ]
  },
  {
   "cell_type": "code",
   "execution_count": 3,
   "id": "aaaf9df8",
   "metadata": {},
   "outputs": [
    {
     "name": "stdout",
     "output_type": "stream",
     "text": [
      "5/6\n",
      "1/6\n",
      "1/6\n",
      "1/6\n",
      "3/2\n",
      "13/2\n"
     ]
    }
   ],
   "source": [
    "class Rational:\n",
    "    \n",
    "    @staticmethod\n",
    "    def gcd(a,b):\n",
    "        while (b != 0):\n",
    "            (a,b) = (b,a%b)\n",
    "        return a\n",
    "    \n",
    "    @staticmethod\n",
    "    def sgn(x):\n",
    "        if x>0:\n",
    "            return 1\n",
    "        elif x<0:\n",
    "            return -1\n",
    "        else:\n",
    "            return 0\n",
    "        \n",
    "    def __init__(self,n,d):\n",
    "        if n==0:\n",
    "            self.num=0\n",
    "            self.den=1\n",
    "        else:\n",
    "            z=self.sgn(n)*self.sgn(d)\n",
    "            n=abs(n)\n",
    "            d=abs(d)\n",
    "            k=self.gcd(n,d)\n",
    "            self.num=z*n//k\n",
    "            self.den=d//k\n",
    "            \n",
    "    def __str__(self):\n",
    "        if self.num==0:\n",
    "            return \"0\"\n",
    "        else:\n",
    "            return str(self.num)+\"/\"+str(self.den)\n",
    "        \n",
    "    def __add__(self,o):\n",
    "        n1=self.num\n",
    "        d1=self.den\n",
    "        if type(o)==int:\n",
    "            n2=o\n",
    "            d2=1\n",
    "        else:\n",
    "            n2=o.num\n",
    "            d2=o.den\n",
    "        n=n1*d2+n2*d1\n",
    "        d=d1*d2\n",
    "        return Rational(n,d)\n",
    "    \n",
    "    def __radd__(self,o):\n",
    "        n1=self.num\n",
    "        d1=self.den\n",
    "        if type(o)==int:\n",
    "            n2=o\n",
    "            d2=1\n",
    "        else:\n",
    "            n2=o.num\n",
    "            d2=o.den\n",
    "        n=n1*d2+n2*d1\n",
    "        d=d1*d2\n",
    "        return Rational(n,d)\n",
    "    \n",
    "    def __sub__(self,o):\n",
    "        n1=self.num\n",
    "        d1=self.den\n",
    "        n2=o.num\n",
    "        d2=o.den\n",
    "        n=n1*d2-n2*d1\n",
    "        d=d1*d2\n",
    "        return Rational(n,d)\n",
    "    \n",
    "    def __mul__(self,o):\n",
    "        n1=self.num\n",
    "        d1=self.den\n",
    "        n2=o.num\n",
    "        d2=o.den\n",
    "        n=n1*n2\n",
    "        d=d1*d2\n",
    "        return Rational(n,d)\n",
    "    \n",
    "    def __floordiv__(self,o):\n",
    "        n1=self.num\n",
    "        d1=self.den\n",
    "        n2=o.num\n",
    "        d2=o.den\n",
    "        n=n1*d2\n",
    "        d=d1*n2\n",
    "        return Rational(n,d)\n",
    "    \n",
    "d1=Rational(1,2)\n",
    "d2=Rational(1,3)\n",
    "d3=d1+d2\n",
    "print(d3)\n",
    "d4=d1-d2\n",
    "print(d4)\n",
    "d5=d1*d2\n",
    "print(d5)\n",
    "d6=d1*d2\n",
    "print(d6)\n",
    "d7=d1//d2\n",
    "print(d7)\n",
    "d8=6+d1\n",
    "print(d8)"
   ]
  },
  {
   "cell_type": "markdown",
   "id": "0324e496",
   "metadata": {},
   "source": [
    "Задание: Создайте класс по работе с тригонометрическими функциями. В классе\n",
    "должны быть реализованы функции вычисления:\n",
    "− косинуса;\n",
    "− синуса;\n",
    "− тангенса;\n",
    "− арксинуса;\n",
    "− арккосинуса;\n",
    "− арктангенса;\n",
    "− перевода из градусов в радианы."
   ]
  },
  {
   "cell_type": "code",
   "execution_count": 3,
   "id": "039c76e0",
   "metadata": {},
   "outputs": [
    {
     "name": "stdout",
     "output_type": "stream",
     "text": [
      "Введите функцию из предложенных: 1: cos(косинус); 2: sin(синус); 3: tan(тангенс); 4: arcsin(арксинус); 5: arccos(аркосинус); 6: arctan(арктангенс); 7: rad(перевод из градусов в радианы)6\n",
      "Введите переменную x: 678\n",
      "1.5693214016107297\n"
     ]
    }
   ],
   "source": [
    "import math\n",
    "class Trigonometric:\n",
    "    def __init__(self, x):\n",
    "        self.x = x\n",
    "        \n",
    "    def cos(self):\n",
    "        return math.cos(self.x)\n",
    "    def sin(self):\n",
    "        return math.sin(self.x)\n",
    "    def tan(self): \n",
    "        return math.tan(self.x)\n",
    "    def arcsin(self):\n",
    "        return math.asin(self.x)\n",
    "    def arccos(self):\n",
    "        return math.acos(self.x)\n",
    "    def arctan(self):\n",
    "        return math.atan(self.x)\n",
    "    def rad(self):\n",
    "        return math.radians(self.x)\n",
    "\n",
    "\n",
    "func = int(input(\"Введите функцию из предложенных: \"\n",
    "                 \"1: cos(косинус); \"\n",
    "                 \"2: sin(синус); \"\n",
    "                 \"3: tan(тангенс); \"\n",
    "                 \"4: arcsin(арксинус); \"\n",
    "                 \"5: arccos(аркосинус); \"\n",
    "                 \"6: arctan(арктангенс); \"\n",
    "                 \"7: rad(перевод из градусов в радианы)\"))\n",
    "\n",
    "x = int(input(\"Введите переменную x: \"))\n",
    "\n",
    "\n",
    "obj = Trigonometric(x)\n",
    "\n",
    "if func == 1:\n",
    "    print(obj.cos())\n",
    "elif func == 2:\n",
    "    print(obj.sin())\n",
    "elif func == 3:\n",
    "    print(obj.tan())\n",
    "elif func == 4:\n",
    "    print(obj.arcsin())\n",
    "elif func == 5:\n",
    "    print(obj.arccos())\n",
    "elif func == 6:\n",
    "    print(obj.arctan())\n",
    "elif func == 7:\n",
    "    print(obj.rad())\n",
    "else:\n",
    "    print(\"Не найдено\")   "
   ]
  },
  {
   "cell_type": "markdown",
   "id": "00d97046",
   "metadata": {},
   "source": [
    "1.2.1 Пример.\n",
    "Определите класс бинарного дерева и задайте его объекты с отдельным\n",
    "атрибутом для каждого из потомков."
   ]
  },
  {
   "cell_type": "code",
   "execution_count": 4,
   "id": "f9d66e88",
   "metadata": {},
   "outputs": [
    {
     "data": {
      "text/plain": [
       "'c'"
      ]
     },
     "execution_count": 4,
     "metadata": {},
     "output_type": "execute_result"
    }
   ],
   "source": [
    "class Tree:\n",
    "    def __init__(self, left, right):\n",
    "        self.left = left\n",
    "        self.right = right\n",
    "\n",
    "t=Tree(Tree(\"a\", \"b\"), Tree(\"c\", \"d\"))\n",
    "t.right.left"
   ]
  },
  {
   "cell_type": "markdown",
   "id": "0e32bd7f",
   "metadata": {},
   "source": [
    "1.2.2 Пример. \n",
    "Для обозначения отсутствующих потомков можно использовать None\n",
    "(в случае если у узла только один потомок). Само собой, можно\n",
    "комбинировать разные методы (например, использовать списки или\n",
    "множества потомков для каждого узла).\n",
    "Распространенный способ реализации деревьев, особенно на языках,\n",
    "не имеющих встроенной поддержки списков, это так называемое\n",
    "представление «первый потомок, следующий брат». В нем каждый узел\n",
    "имеет два «указателя» или атрибута, указывающих на другие узлы, как в\n",
    "бинарном дереве. Однако, первый из этих атрибутов ссылается на первого\n",
    "потомка узла, а второй — на его следующего брата (т.е. узел, имеющий\n",
    "того же родителя, но находящийся правее, — прим. перев). Иными\n",
    "словами, каждый узел дерева имеет указатель на связанный список его\n",
    "потомков, а каждый из этих потомков ссылается на свой собственный\n",
    "аналогичный список. Таким образом, небольшая модификация бинарного\n",
    "дерева даст нам многопутевое дерево, показанное в листинге ниже."
   ]
  },
  {
   "cell_type": "code",
   "execution_count": 5,
   "id": "553fcc39",
   "metadata": {},
   "outputs": [
    {
     "data": {
      "text/plain": [
       "'c'"
      ]
     },
     "execution_count": 5,
     "metadata": {},
     "output_type": "execute_result"
    }
   ],
   "source": [
    "class Tree:\n",
    "    def __init__(self, kids, next=None):\n",
    "        self.kids = self.val = kids\n",
    "        self.next = next\n",
    "        \n",
    "t=Tree(Tree(\"a\", Tree(\"b\", Tree(\"c\", Tree(\"d\")))))\n",
    "t.kids.next.next.val"
   ]
  },
  {
   "cell_type": "markdown",
   "id": "daa6b7c1",
   "metadata": {},
   "source": [
    "Задание.\n",
    "Представьте дерево показанное на рисунке с использованием списка из\n",
    "списков. Выведите на печать корень дерева, а также его левое и правое\n",
    "поддеревья."
   ]
  },
  {
   "cell_type": "code",
   "execution_count": 4,
   "id": "fbca7626",
   "metadata": {},
   "outputs": [
    {
     "name": "stdout",
     "output_type": "stream",
     "text": [
      "Корень дерева: a\n",
      "Левое поддерево: ['b', ['d', [], []], ['e', [], []]]\n",
      "Правое поддерево: ['c', ['f', [], []], []]\n"
     ]
    }
   ],
   "source": [
    "class Tree:\n",
    "    def __init__(self, left, right):\n",
    "        self.left = left\n",
    "        self.right = right\n",
    "\n",
    "T = ['a',\n",
    "    ['b',\n",
    "    ['d', [], []],\n",
    "    ['e', [], []]],\n",
    "    ['c',\n",
    "    ['f', [], []],\n",
    "    []]\n",
    "    ]\n",
    "\n",
    "print(\"Корень дерева:\", T[0])\n",
    "print(\"Левое поддерево:\", T[1])\n",
    "print(\"Правое поддерево:\", T[2])"
   ]
  },
  {
   "cell_type": "markdown",
   "id": "1cad8758",
   "metadata": {},
   "source": [
    "Задание:\n",
    "Дан класс, описывающий бинарное дерево.\n",
    "class Tree:\n",
    "def __init__(self, data):\n",
    "self.left = None\n",
    "self.right = None\n",
    "self.data = data\n",
    "def PrintTree(self):\n",
    "print(self.data)\n",
    "Реализуйте в классе функцию для вставки нового элемента в дерево по\n",
    "следующим правилам:\n",
    "• Левое поддерево узла содержит только узлы со значениями меньше,\n",
    "чем значение в узле.\n",
    "• Правое поддерево узла содержит только узлы со значениями меньше,\n",
    "чем значение в узле.\n",
    "• Каждое из левого и правого поддеревьев также должно быть\n",
    "бинарным деревом поиска.\n",
    "• Не должно быть повторяющихся узлов.\n",
    "Метод вставки сравнивает значение узла с родительским узлом и решает\n",
    "куда доваить элемент (в левое или правое поддерево). Перепишите, метод\n",
    "PrintTree для печати полной версии дерева."
   ]
  },
  {
   "cell_type": "code",
   "execution_count": 5,
   "id": "89f4c765",
   "metadata": {},
   "outputs": [
    {
     "name": "stdout",
     "output_type": "stream",
     "text": [
      "3\n",
      "8\n",
      "10\n",
      "45\n"
     ]
    }
   ],
   "source": [
    "class Node:\n",
    "    left = None\n",
    "    right =None\n",
    "    data = None\n",
    "    \n",
    "    def __init__(self, data=None):\n",
    "        if data is not None:\n",
    "            self.data = data\n",
    "            \n",
    "class Tree:\n",
    "    def __init__(self, data):\n",
    "        self.left = None\n",
    "        self.right = None\n",
    "        self.data = data #корень\n",
    "        \n",
    "    def degree(self): #степень\n",
    "        n=0\n",
    "        if left:\n",
    "            n=n+1\n",
    "        if right:\n",
    "            n=n+1\n",
    "        return n\n",
    "    \n",
    "    def find(self, data): #находим левое и правое поддеревья\n",
    "        if self.data:\n",
    "            if data == self.data:\n",
    "                return True\n",
    "            elif data > self.data:\n",
    "                if self.right:\n",
    "                    return self.right.find(data)\n",
    "                else:\n",
    "                    return False\n",
    "            elif data < self.data:\n",
    "                if self.left:\n",
    "                    return self.left.find(data)\n",
    "                else:\n",
    "                    return False\n",
    "        else:\n",
    "            return False\n",
    "        \n",
    "    def insert(self, data): #вставляем все в дерево (строим его)\n",
    "        if self.data:\n",
    "            \n",
    "            if data < self.data:\n",
    "                if self.left is None:\n",
    "                    self.left = Tree(data)\n",
    "                else:\n",
    "                    self.left.insert(data)\n",
    "            elif data > self.data:\n",
    "                if self.right is None:\n",
    "                    self.right = Tree(data)\n",
    "                else:\n",
    "                    self.right.insert(data)\n",
    "        else:\n",
    "            self.data = data\n",
    "                \n",
    "    \n",
    "    def PrintTree(self): #выводим дерево\n",
    "        if self.left:\n",
    "            self.left.PrintTree()\n",
    "        print(self.data),\n",
    "        if self.right:\n",
    "            self.right.PrintTree()\n",
    "            \n",
    "    def depth_first(self, root):#глубина дерева\n",
    "        res=[]\n",
    "        if root:\n",
    "            res.append(root.data)\n",
    "            res=res+self.depth_first(root.left)\n",
    "            res=res+self.depth_first(root.right)\n",
    "\n",
    "\n",
    "node = Tree(8)\n",
    "node.insert(3)\n",
    "node.insert(10)\n",
    "node.insert(45)\n",
    "node.PrintTree()            "
   ]
  },
  {
   "cell_type": "markdown",
   "id": "45f1b153",
   "metadata": {},
   "source": [
    "1.3.1 Пример.\n",
    "Построим дерево решений для задачи классификации, для этого, построим\n",
    "границу решения для каждого класса. В качестве данных будем\n",
    "использовать уже знакомый нам и встроенный в библиотеку sklearn набор\n",
    "данных ирисов Фишера. Импортируем библиотеки, набор данных и\n",
    "посмотрим его характеристики."
   ]
  },
  {
   "cell_type": "code",
   "execution_count": 6,
   "id": "decf645c",
   "metadata": {},
   "outputs": [
    {
     "data": {
      "text/html": [
       "<div>\n",
       "<style scoped>\n",
       "    .dataframe tbody tr th:only-of-type {\n",
       "        vertical-align: middle;\n",
       "    }\n",
       "\n",
       "    .dataframe tbody tr th {\n",
       "        vertical-align: top;\n",
       "    }\n",
       "\n",
       "    .dataframe thead th {\n",
       "        text-align: right;\n",
       "    }\n",
       "</style>\n",
       "<table border=\"1\" class=\"dataframe\">\n",
       "  <thead>\n",
       "    <tr style=\"text-align: right;\">\n",
       "      <th></th>\n",
       "      <th>sepal_length</th>\n",
       "      <th>sepal_width</th>\n",
       "      <th>petal_length</th>\n",
       "      <th>petal_width</th>\n",
       "      <th>species</th>\n",
       "    </tr>\n",
       "  </thead>\n",
       "  <tbody>\n",
       "    <tr>\n",
       "      <th>0</th>\n",
       "      <td>5.1</td>\n",
       "      <td>3.5</td>\n",
       "      <td>1.4</td>\n",
       "      <td>0.2</td>\n",
       "      <td>setosa</td>\n",
       "    </tr>\n",
       "    <tr>\n",
       "      <th>1</th>\n",
       "      <td>4.9</td>\n",
       "      <td>3.0</td>\n",
       "      <td>1.4</td>\n",
       "      <td>0.2</td>\n",
       "      <td>setosa</td>\n",
       "    </tr>\n",
       "    <tr>\n",
       "      <th>2</th>\n",
       "      <td>4.7</td>\n",
       "      <td>3.2</td>\n",
       "      <td>1.3</td>\n",
       "      <td>0.2</td>\n",
       "      <td>setosa</td>\n",
       "    </tr>\n",
       "    <tr>\n",
       "      <th>3</th>\n",
       "      <td>4.6</td>\n",
       "      <td>3.1</td>\n",
       "      <td>1.5</td>\n",
       "      <td>0.2</td>\n",
       "      <td>setosa</td>\n",
       "    </tr>\n",
       "    <tr>\n",
       "      <th>4</th>\n",
       "      <td>5.0</td>\n",
       "      <td>3.6</td>\n",
       "      <td>1.4</td>\n",
       "      <td>0.2</td>\n",
       "      <td>setosa</td>\n",
       "    </tr>\n",
       "    <tr>\n",
       "      <th>...</th>\n",
       "      <td>...</td>\n",
       "      <td>...</td>\n",
       "      <td>...</td>\n",
       "      <td>...</td>\n",
       "      <td>...</td>\n",
       "    </tr>\n",
       "    <tr>\n",
       "      <th>145</th>\n",
       "      <td>6.7</td>\n",
       "      <td>3.0</td>\n",
       "      <td>5.2</td>\n",
       "      <td>2.3</td>\n",
       "      <td>virginica</td>\n",
       "    </tr>\n",
       "    <tr>\n",
       "      <th>146</th>\n",
       "      <td>6.3</td>\n",
       "      <td>2.5</td>\n",
       "      <td>5.0</td>\n",
       "      <td>1.9</td>\n",
       "      <td>virginica</td>\n",
       "    </tr>\n",
       "    <tr>\n",
       "      <th>147</th>\n",
       "      <td>6.5</td>\n",
       "      <td>3.0</td>\n",
       "      <td>5.2</td>\n",
       "      <td>2.0</td>\n",
       "      <td>virginica</td>\n",
       "    </tr>\n",
       "    <tr>\n",
       "      <th>148</th>\n",
       "      <td>6.2</td>\n",
       "      <td>3.4</td>\n",
       "      <td>5.4</td>\n",
       "      <td>2.3</td>\n",
       "      <td>virginica</td>\n",
       "    </tr>\n",
       "    <tr>\n",
       "      <th>149</th>\n",
       "      <td>5.9</td>\n",
       "      <td>3.0</td>\n",
       "      <td>5.1</td>\n",
       "      <td>1.8</td>\n",
       "      <td>virginica</td>\n",
       "    </tr>\n",
       "  </tbody>\n",
       "</table>\n",
       "<p>150 rows × 5 columns</p>\n",
       "</div>"
      ],
      "text/plain": [
       "     sepal_length  sepal_width  petal_length  petal_width    species\n",
       "0             5.1          3.5           1.4          0.2     setosa\n",
       "1             4.9          3.0           1.4          0.2     setosa\n",
       "2             4.7          3.2           1.3          0.2     setosa\n",
       "3             4.6          3.1           1.5          0.2     setosa\n",
       "4             5.0          3.6           1.4          0.2     setosa\n",
       "..            ...          ...           ...          ...        ...\n",
       "145           6.7          3.0           5.2          2.3  virginica\n",
       "146           6.3          2.5           5.0          1.9  virginica\n",
       "147           6.5          3.0           5.2          2.0  virginica\n",
       "148           6.2          3.4           5.4          2.3  virginica\n",
       "149           5.9          3.0           5.1          1.8  virginica\n",
       "\n",
       "[150 rows x 5 columns]"
      ]
     },
     "execution_count": 6,
     "metadata": {},
     "output_type": "execute_result"
    }
   ],
   "source": [
    "import pandas as pd\n",
    "import numpy as np\n",
    "import seaborn as sns\n",
    "import matplotlib.pyplot as plt\n",
    "\n",
    "dataset = sns.load_dataset('iris')\n",
    "dataset"
   ]
  },
  {
   "cell_type": "code",
   "execution_count": 7,
   "id": "9610dce0",
   "metadata": {},
   "outputs": [
    {
     "data": {
      "text/plain": [
       "(150, 5)"
      ]
     },
     "execution_count": 7,
     "metadata": {},
     "output_type": "execute_result"
    }
   ],
   "source": [
    "dataset.shape"
   ]
  },
  {
   "cell_type": "code",
   "execution_count": 8,
   "id": "7b4d687e",
   "metadata": {},
   "outputs": [
    {
     "data": {
      "text/html": [
       "<div>\n",
       "<style scoped>\n",
       "    .dataframe tbody tr th:only-of-type {\n",
       "        vertical-align: middle;\n",
       "    }\n",
       "\n",
       "    .dataframe tbody tr th {\n",
       "        vertical-align: top;\n",
       "    }\n",
       "\n",
       "    .dataframe thead th {\n",
       "        text-align: right;\n",
       "    }\n",
       "</style>\n",
       "<table border=\"1\" class=\"dataframe\">\n",
       "  <thead>\n",
       "    <tr style=\"text-align: right;\">\n",
       "      <th></th>\n",
       "      <th>sepal_length</th>\n",
       "      <th>sepal_width</th>\n",
       "      <th>petal_length</th>\n",
       "      <th>petal_width</th>\n",
       "      <th>species</th>\n",
       "    </tr>\n",
       "  </thead>\n",
       "  <tbody>\n",
       "    <tr>\n",
       "      <th>0</th>\n",
       "      <td>5.1</td>\n",
       "      <td>3.5</td>\n",
       "      <td>1.4</td>\n",
       "      <td>0.2</td>\n",
       "      <td>setosa</td>\n",
       "    </tr>\n",
       "    <tr>\n",
       "      <th>1</th>\n",
       "      <td>4.9</td>\n",
       "      <td>3.0</td>\n",
       "      <td>1.4</td>\n",
       "      <td>0.2</td>\n",
       "      <td>setosa</td>\n",
       "    </tr>\n",
       "    <tr>\n",
       "      <th>2</th>\n",
       "      <td>4.7</td>\n",
       "      <td>3.2</td>\n",
       "      <td>1.3</td>\n",
       "      <td>0.2</td>\n",
       "      <td>setosa</td>\n",
       "    </tr>\n",
       "    <tr>\n",
       "      <th>3</th>\n",
       "      <td>4.6</td>\n",
       "      <td>3.1</td>\n",
       "      <td>1.5</td>\n",
       "      <td>0.2</td>\n",
       "      <td>setosa</td>\n",
       "    </tr>\n",
       "    <tr>\n",
       "      <th>4</th>\n",
       "      <td>5.0</td>\n",
       "      <td>3.6</td>\n",
       "      <td>1.4</td>\n",
       "      <td>0.2</td>\n",
       "      <td>setosa</td>\n",
       "    </tr>\n",
       "  </tbody>\n",
       "</table>\n",
       "</div>"
      ],
      "text/plain": [
       "   sepal_length  sepal_width  petal_length  petal_width species\n",
       "0           5.1          3.5           1.4          0.2  setosa\n",
       "1           4.9          3.0           1.4          0.2  setosa\n",
       "2           4.7          3.2           1.3          0.2  setosa\n",
       "3           4.6          3.1           1.5          0.2  setosa\n",
       "4           5.0          3.6           1.4          0.2  setosa"
      ]
     },
     "execution_count": 8,
     "metadata": {},
     "output_type": "execute_result"
    }
   ],
   "source": [
    "dataset.head()"
   ]
  },
  {
   "cell_type": "markdown",
   "id": "2329327e",
   "metadata": {},
   "source": [
    "Далее, разделим наши данные на атрибуты и метки, а затем выделим в\n",
    "общей совокупности полученных данных обучающие и тестовые наборы.\n",
    "Таким образом, мы можем обучить наш алгоритм на одном наборе данных,\n",
    "а затем протестировать его на совершенно на другом наборе, который\n",
    "алгоритм еще не видел. Это дает вам более точное представление о том,\n",
    "как на самом деле будет работать ваш обученный алгоритм."
   ]
  },
  {
   "cell_type": "code",
   "execution_count": 11,
   "id": "f5309b51",
   "metadata": {},
   "outputs": [
    {
     "data": {
      "text/plain": [
       "((120, 4), (30, 4), (120,), (30,))"
      ]
     },
     "execution_count": 11,
     "metadata": {},
     "output_type": "execute_result"
    }
   ],
   "source": [
    "from sklearn.model_selection import train_test_split\n",
    "\n",
    "X_train, X_test, y_train, y_test = train_test_split(\n",
    "    #поскольку iris это pandas-таблица, для нее нужно указывать iloc\n",
    "    dataset.iloc[:, :-1], #берем все колонки кроме последней в признаки \n",
    "    dataset.iloc[:, -1], #последнюю в целевую переменную (класс)\n",
    "    test_size = 0.20 # размер тестовой выборки 20%\n",
    ")\n",
    "\n",
    "X_train.shape, X_test.shape, y_train.shape, y_test.shape"
   ]
  },
  {
   "cell_type": "code",
   "execution_count": 12,
   "id": "4ccce6a8",
   "metadata": {},
   "outputs": [
    {
     "data": {
      "text/html": [
       "<div>\n",
       "<style scoped>\n",
       "    .dataframe tbody tr th:only-of-type {\n",
       "        vertical-align: middle;\n",
       "    }\n",
       "\n",
       "    .dataframe tbody tr th {\n",
       "        vertical-align: top;\n",
       "    }\n",
       "\n",
       "    .dataframe thead th {\n",
       "        text-align: right;\n",
       "    }\n",
       "</style>\n",
       "<table border=\"1\" class=\"dataframe\">\n",
       "  <thead>\n",
       "    <tr style=\"text-align: right;\">\n",
       "      <th></th>\n",
       "      <th>sepal_length</th>\n",
       "      <th>sepal_width</th>\n",
       "      <th>petal_length</th>\n",
       "      <th>petal_width</th>\n",
       "    </tr>\n",
       "  </thead>\n",
       "  <tbody>\n",
       "    <tr>\n",
       "      <th>39</th>\n",
       "      <td>5.1</td>\n",
       "      <td>3.4</td>\n",
       "      <td>1.5</td>\n",
       "      <td>0.2</td>\n",
       "    </tr>\n",
       "    <tr>\n",
       "      <th>44</th>\n",
       "      <td>5.1</td>\n",
       "      <td>3.8</td>\n",
       "      <td>1.9</td>\n",
       "      <td>0.4</td>\n",
       "    </tr>\n",
       "    <tr>\n",
       "      <th>11</th>\n",
       "      <td>4.8</td>\n",
       "      <td>3.4</td>\n",
       "      <td>1.6</td>\n",
       "      <td>0.2</td>\n",
       "    </tr>\n",
       "    <tr>\n",
       "      <th>149</th>\n",
       "      <td>5.9</td>\n",
       "      <td>3.0</td>\n",
       "      <td>5.1</td>\n",
       "      <td>1.8</td>\n",
       "    </tr>\n",
       "    <tr>\n",
       "      <th>145</th>\n",
       "      <td>6.7</td>\n",
       "      <td>3.0</td>\n",
       "      <td>5.2</td>\n",
       "      <td>2.3</td>\n",
       "    </tr>\n",
       "  </tbody>\n",
       "</table>\n",
       "</div>"
      ],
      "text/plain": [
       "     sepal_length  sepal_width  petal_length  petal_width\n",
       "39            5.1          3.4           1.5          0.2\n",
       "44            5.1          3.8           1.9          0.4\n",
       "11            4.8          3.4           1.6          0.2\n",
       "149           5.9          3.0           5.1          1.8\n",
       "145           6.7          3.0           5.2          2.3"
      ]
     },
     "execution_count": 12,
     "metadata": {},
     "output_type": "execute_result"
    }
   ],
   "source": [
    "X_train.head()"
   ]
  },
  {
   "cell_type": "code",
   "execution_count": 13,
   "id": "64f33f14",
   "metadata": {},
   "outputs": [
    {
     "data": {
      "text/plain": [
       "39        setosa\n",
       "44        setosa\n",
       "11        setosa\n",
       "149    virginica\n",
       "145    virginica\n",
       "Name: species, dtype: object"
      ]
     },
     "execution_count": 13,
     "metadata": {},
     "output_type": "execute_result"
    }
   ],
   "source": [
    "y_train.head()"
   ]
  },
  {
   "cell_type": "markdown",
   "id": "38e83c5a",
   "metadata": {},
   "source": [
    "После того, как данные были разделены на обучающие и тестовые наборы,\n",
    "последний шаг состоит в том, чтобы обучить алгоритм дерева решений на\n",
    "этих данных и сделать прогнозы. Scikit-Learn содержит библиотеку tree ,\n",
    "которая содержит встроенные классы/методы для различных алгоритмов\n",
    "дерева решений. Поскольку мы собираемся выполнить здесь задачу\n",
    "классификации, мы будем использовать класс DecisionTreeClassifier для\n",
    "этого примера. Метод fit этого класса вызывается для обучения алгоритма\n",
    "на обучающих данных, которые передаются в качестве параметра методу\n",
    "fit . Выполним следующий сценарий для обучения алгоритма."
   ]
  },
  {
   "cell_type": "code",
   "execution_count": 14,
   "id": "80cdda5a",
   "metadata": {},
   "outputs": [
    {
     "data": {
      "text/plain": [
       "DecisionTreeClassifier()"
      ]
     },
     "execution_count": 14,
     "metadata": {},
     "output_type": "execute_result"
    }
   ],
   "source": [
    "from sklearn.tree import DecisionTreeClassifier\n",
    "classifier = DecisionTreeClassifier()\n",
    "classifier.fit(X_train, y_train)"
   ]
  },
  {
   "cell_type": "code",
   "execution_count": 15,
   "id": "13f66db9",
   "metadata": {},
   "outputs": [
    {
     "data": {
      "text/plain": [
       "[Text(133.92000000000002, 199.32, 'X[2] <= 2.6\\ngini = 0.666\\nsamples = 120\\nvalue = [39, 39, 42]'),\n",
       " Text(100.44000000000001, 163.07999999999998, 'gini = 0.0\\nsamples = 39\\nvalue = [39, 0, 0]'),\n",
       " Text(167.40000000000003, 163.07999999999998, 'X[2] <= 4.85\\ngini = 0.499\\nsamples = 81\\nvalue = [0, 39, 42]'),\n",
       " Text(66.96000000000001, 126.83999999999999, 'X[3] <= 1.65\\ngini = 0.136\\nsamples = 41\\nvalue = [0, 38, 3]'),\n",
       " Text(33.480000000000004, 90.6, 'gini = 0.0\\nsamples = 37\\nvalue = [0, 37, 0]'),\n",
       " Text(100.44000000000001, 90.6, 'X[1] <= 3.1\\ngini = 0.375\\nsamples = 4\\nvalue = [0, 1, 3]'),\n",
       " Text(66.96000000000001, 54.359999999999985, 'gini = 0.0\\nsamples = 3\\nvalue = [0, 0, 3]'),\n",
       " Text(133.92000000000002, 54.359999999999985, 'gini = 0.0\\nsamples = 1\\nvalue = [0, 1, 0]'),\n",
       " Text(267.84000000000003, 126.83999999999999, 'X[3] <= 1.7\\ngini = 0.049\\nsamples = 40\\nvalue = [0, 1, 39]'),\n",
       " Text(234.36, 90.6, 'X[3] <= 1.55\\ngini = 0.32\\nsamples = 5\\nvalue = [0, 1, 4]'),\n",
       " Text(200.88000000000002, 54.359999999999985, 'gini = 0.0\\nsamples = 3\\nvalue = [0, 0, 3]'),\n",
       " Text(267.84000000000003, 54.359999999999985, 'X[2] <= 5.45\\ngini = 0.5\\nsamples = 2\\nvalue = [0, 1, 1]'),\n",
       " Text(234.36, 18.119999999999976, 'gini = 0.0\\nsamples = 1\\nvalue = [0, 1, 0]'),\n",
       " Text(301.32000000000005, 18.119999999999976, 'gini = 0.0\\nsamples = 1\\nvalue = [0, 0, 1]'),\n",
       " Text(301.32000000000005, 90.6, 'gini = 0.0\\nsamples = 35\\nvalue = [0, 0, 35]')]"
      ]
     },
     "execution_count": 15,
     "metadata": {},
     "output_type": "execute_result"
    },
    {
     "data": {
      "image/png": "[encoded data removed]",
      "text/plain": [
       "<Figure size 432x288 with 1 Axes>"
      ]
     },
     "metadata": {
      "needs_background": "light"
     },
     "output_type": "display_data"
    }
   ],
   "source": [
    "#посторим дерево решений \n",
    "from sklearn import tree\n",
    "tree.plot_tree(classifier)"
   ]
  },
  {
   "cell_type": "markdown",
   "id": "8dd3ba67",
   "metadata": {},
   "source": [
    "Теперь, когда наш классификатор обучен, давайте сделаем прогнозы по\n",
    "тестовым данным. Для составления прогнозов используется метод predict\n",
    "класса Decision Tree Classifier. Взгляните на следующий код для\n",
    "использования."
   ]
  },
  {
   "cell_type": "code",
   "execution_count": 16,
   "id": "c0e66890",
   "metadata": {},
   "outputs": [
    {
     "data": {
      "text/plain": [
       "array(['versicolor', 'setosa', 'setosa', 'setosa', 'versicolor',\n",
       "       'virginica', 'virginica', 'versicolor', 'setosa', 'versicolor',\n",
       "       'setosa', 'versicolor', 'setosa', 'virginica', 'virginica',\n",
       "       'virginica', 'setosa', 'virginica', 'virginica', 'virginica',\n",
       "       'virginica', 'versicolor', 'versicolor', 'setosa', 'setosa',\n",
       "       'setosa', 'virginica', 'setosa', 'versicolor', 'virginica'],\n",
       "      dtype=object)"
      ]
     },
     "execution_count": 16,
     "metadata": {},
     "output_type": "execute_result"
    }
   ],
   "source": [
    "y_pred = classifier.predict(X_test)\n",
    "y_pred"
   ]
  },
  {
   "cell_type": "markdown",
   "id": "239416e3",
   "metadata": {},
   "source": [
    "На данный момент мы обучили наш алгоритм и сделали некоторые\n",
    "прогнозы. Теперь посмотрим, насколько точен наш алгоритм. Для задач\n",
    "классификации обычно используются такие метрики, как матрица\n",
    "путаницы, точность. Библиотека Scikit-Learn metrics содержит методы\n",
    "classification_report и confusion_matrix, которые могут быть использованы\n",
    "для расчета этих метрик."
   ]
  },
  {
   "cell_type": "code",
   "execution_count": 17,
   "id": "48f9b9da",
   "metadata": {},
   "outputs": [
    {
     "name": "stdout",
     "output_type": "stream",
     "text": [
      "[[11  0  0]\n",
      " [ 0  8  3]\n",
      " [ 0  0  8]]\n",
      "              precision    recall  f1-score   support\n",
      "\n",
      "      setosa       1.00      1.00      1.00        11\n",
      "  versicolor       1.00      0.73      0.84        11\n",
      "   virginica       0.73      1.00      0.84         8\n",
      "\n",
      "    accuracy                           0.90        30\n",
      "   macro avg       0.91      0.91      0.89        30\n",
      "weighted avg       0.93      0.90      0.90        30\n",
      "\n"
     ]
    }
   ],
   "source": [
    "from sklearn.metrics import classification_report, confusion_matrix\n",
    "print(confusion_matrix(y_test, y_pred))\n",
    "print(classification_report(y_test, y_pred))"
   ]
  },
  {
   "cell_type": "markdown",
   "id": "0f02f3ad",
   "metadata": {},
   "source": [
    "Из матрицы оценок алгоритма вы можете видеть, что из 30 тестовых\n",
    "экземпляров наш алгоритм неправильно классифицировал только 3. Это\n",
    "приблизительно 91 % точности."
   ]
  },
  {
   "cell_type": "markdown",
   "id": "5ac3c07b",
   "metadata": {},
   "source": [
    "Задача: Постройте классификатор на основе дерева принятия решений\n",
    "следующего датасета:\n",
    "#данные \n",
    "X = np.array([[-1, -1], [-2, -1], [-3, -2], [1, 1], [2, 1], [3, 2]])\n",
    "target = [0, 0, 0, 1, 1, 1]"
   ]
  },
  {
   "cell_type": "code",
   "execution_count": 10,
   "id": "1d73b34a",
   "metadata": {},
   "outputs": [],
   "source": [
    "import pandas as pd\n",
    "import numpy as np\n",
    "import seaborn as sns\n",
    "import matplotlib.pyplot as plt"
   ]
  },
  {
   "cell_type": "code",
   "execution_count": 23,
   "id": "f098c338",
   "metadata": {},
   "outputs": [
    {
     "data": {
      "text/html": [
       "<div>\n",
       "<style scoped>\n",
       "    .dataframe tbody tr th:only-of-type {\n",
       "        vertical-align: middle;\n",
       "    }\n",
       "\n",
       "    .dataframe tbody tr th {\n",
       "        vertical-align: top;\n",
       "    }\n",
       "\n",
       "    .dataframe thead th {\n",
       "        text-align: right;\n",
       "    }\n",
       "</style>\n",
       "<table border=\"1\" class=\"dataframe\">\n",
       "  <thead>\n",
       "    <tr style=\"text-align: right;\">\n",
       "      <th></th>\n",
       "      <th>Значение1</th>\n",
       "      <th>Значение2</th>\n",
       "      <th>target</th>\n",
       "    </tr>\n",
       "  </thead>\n",
       "  <tbody>\n",
       "    <tr>\n",
       "      <th>0</th>\n",
       "      <td>-1</td>\n",
       "      <td>-1</td>\n",
       "      <td>0</td>\n",
       "    </tr>\n",
       "    <tr>\n",
       "      <th>1</th>\n",
       "      <td>-2</td>\n",
       "      <td>-1</td>\n",
       "      <td>0</td>\n",
       "    </tr>\n",
       "    <tr>\n",
       "      <th>2</th>\n",
       "      <td>-3</td>\n",
       "      <td>-2</td>\n",
       "      <td>0</td>\n",
       "    </tr>\n",
       "    <tr>\n",
       "      <th>3</th>\n",
       "      <td>1</td>\n",
       "      <td>1</td>\n",
       "      <td>1</td>\n",
       "    </tr>\n",
       "    <tr>\n",
       "      <th>4</th>\n",
       "      <td>2</td>\n",
       "      <td>1</td>\n",
       "      <td>1</td>\n",
       "    </tr>\n",
       "    <tr>\n",
       "      <th>5</th>\n",
       "      <td>3</td>\n",
       "      <td>2</td>\n",
       "      <td>1</td>\n",
       "    </tr>\n",
       "  </tbody>\n",
       "</table>\n",
       "</div>"
      ],
      "text/plain": [
       "   Значение1  Значение2  target\n",
       "0         -1         -1       0\n",
       "1         -2         -1       0\n",
       "2         -3         -2       0\n",
       "3          1          1       1\n",
       "4          2          1       1\n",
       "5          3          2       1"
      ]
     },
     "execution_count": 23,
     "metadata": {},
     "output_type": "execute_result"
    }
   ],
   "source": [
    "X = np.array([[-1, -1], [-2, -1], [-3, -2], [1, 1], [2, 1], [3, 2]])\n",
    "target = [0, 0, 0, 1, 1, 1]\n",
    "df = pd.DataFrame(data = X, columns = ['Значение1', 'Значение2'])\n",
    "df['target'] = target\n",
    "df"
   ]
  },
  {
   "cell_type": "code",
   "execution_count": 25,
   "id": "fd3b1338",
   "metadata": {},
   "outputs": [
    {
     "data": {
      "text/plain": [
       "(6, 3)"
      ]
     },
     "execution_count": 25,
     "metadata": {},
     "output_type": "execute_result"
    }
   ],
   "source": [
    "df.shape"
   ]
  },
  {
   "cell_type": "code",
   "execution_count": 26,
   "id": "c7a231e0",
   "metadata": {},
   "outputs": [
    {
     "data": {
      "text/html": [
       "<div>\n",
       "<style scoped>\n",
       "    .dataframe tbody tr th:only-of-type {\n",
       "        vertical-align: middle;\n",
       "    }\n",
       "\n",
       "    .dataframe tbody tr th {\n",
       "        vertical-align: top;\n",
       "    }\n",
       "\n",
       "    .dataframe thead th {\n",
       "        text-align: right;\n",
       "    }\n",
       "</style>\n",
       "<table border=\"1\" class=\"dataframe\">\n",
       "  <thead>\n",
       "    <tr style=\"text-align: right;\">\n",
       "      <th></th>\n",
       "      <th>Значение1</th>\n",
       "      <th>Значение2</th>\n",
       "      <th>target</th>\n",
       "    </tr>\n",
       "  </thead>\n",
       "  <tbody>\n",
       "    <tr>\n",
       "      <th>0</th>\n",
       "      <td>-1</td>\n",
       "      <td>-1</td>\n",
       "      <td>0</td>\n",
       "    </tr>\n",
       "    <tr>\n",
       "      <th>1</th>\n",
       "      <td>-2</td>\n",
       "      <td>-1</td>\n",
       "      <td>0</td>\n",
       "    </tr>\n",
       "    <tr>\n",
       "      <th>2</th>\n",
       "      <td>-3</td>\n",
       "      <td>-2</td>\n",
       "      <td>0</td>\n",
       "    </tr>\n",
       "    <tr>\n",
       "      <th>3</th>\n",
       "      <td>1</td>\n",
       "      <td>1</td>\n",
       "      <td>1</td>\n",
       "    </tr>\n",
       "    <tr>\n",
       "      <th>4</th>\n",
       "      <td>2</td>\n",
       "      <td>1</td>\n",
       "      <td>1</td>\n",
       "    </tr>\n",
       "  </tbody>\n",
       "</table>\n",
       "</div>"
      ],
      "text/plain": [
       "   Значение1  Значение2  target\n",
       "0         -1         -1       0\n",
       "1         -2         -1       0\n",
       "2         -3         -2       0\n",
       "3          1          1       1\n",
       "4          2          1       1"
      ]
     },
     "execution_count": 26,
     "metadata": {},
     "output_type": "execute_result"
    }
   ],
   "source": [
    "df.head()"
   ]
  },
  {
   "cell_type": "code",
   "execution_count": 28,
   "id": "984faad8",
   "metadata": {},
   "outputs": [
    {
     "data": {
      "text/plain": [
       "((4, 2), (2, 2), (4,), (2,))"
      ]
     },
     "execution_count": 28,
     "metadata": {},
     "output_type": "execute_result"
    }
   ],
   "source": [
    "#разделим наши данные на атрибуты и метки, а затем выделим в общей совокупности полученных данных обучающие и тестовые наборы. Таким образом, мы можем обучить наш алгоритм на одном наборе данных, а затем протестировать его на совершенно на другом наборе, который алгоритм еще не видел. Это дает вам более точное представление о том, как на самом деле будет работать ваш обученный алгоритм.\n",
    "from sklearn.model_selection import train_test_split\n",
    "\n",
    "X_train, X_test, y_train, y_test = train_test_split(\n",
    "    # указываем iloc\n",
    "    df.iloc[:, :-1], #берем все колонки кроме последней в признаки \n",
    "    df.iloc[:, -1], #последнюю в целевую переменную (класс)\n",
    "    test_size = 0.20 # размер тестовой выборки 20%\n",
    ")\n",
    "\n",
    "X_train.shape, X_test.shape, y_train.shape, y_test.shape"
   ]
  },
  {
   "cell_type": "code",
   "execution_count": 29,
   "id": "8c5399d0",
   "metadata": {},
   "outputs": [
    {
     "data": {
      "text/html": [
       "<div>\n",
       "<style scoped>\n",
       "    .dataframe tbody tr th:only-of-type {\n",
       "        vertical-align: middle;\n",
       "    }\n",
       "\n",
       "    .dataframe tbody tr th {\n",
       "        vertical-align: top;\n",
       "    }\n",
       "\n",
       "    .dataframe thead th {\n",
       "        text-align: right;\n",
       "    }\n",
       "</style>\n",
       "<table border=\"1\" class=\"dataframe\">\n",
       "  <thead>\n",
       "    <tr style=\"text-align: right;\">\n",
       "      <th></th>\n",
       "      <th>Значение1</th>\n",
       "      <th>Значение2</th>\n",
       "    </tr>\n",
       "  </thead>\n",
       "  <tbody>\n",
       "    <tr>\n",
       "      <th>5</th>\n",
       "      <td>3</td>\n",
       "      <td>2</td>\n",
       "    </tr>\n",
       "    <tr>\n",
       "      <th>3</th>\n",
       "      <td>1</td>\n",
       "      <td>1</td>\n",
       "    </tr>\n",
       "    <tr>\n",
       "      <th>0</th>\n",
       "      <td>-1</td>\n",
       "      <td>-1</td>\n",
       "    </tr>\n",
       "    <tr>\n",
       "      <th>1</th>\n",
       "      <td>-2</td>\n",
       "      <td>-1</td>\n",
       "    </tr>\n",
       "  </tbody>\n",
       "</table>\n",
       "</div>"
      ],
      "text/plain": [
       "   Значение1  Значение2\n",
       "5          3          2\n",
       "3          1          1\n",
       "0         -1         -1\n",
       "1         -2         -1"
      ]
     },
     "execution_count": 29,
     "metadata": {},
     "output_type": "execute_result"
    }
   ],
   "source": [
    "X_train.head()"
   ]
  },
  {
   "cell_type": "code",
   "execution_count": 30,
   "id": "51b17b5b",
   "metadata": {},
   "outputs": [
    {
     "data": {
      "text/plain": [
       "5    1\n",
       "3    1\n",
       "0    0\n",
       "1    0\n",
       "Name: target, dtype: int64"
      ]
     },
     "execution_count": 30,
     "metadata": {},
     "output_type": "execute_result"
    }
   ],
   "source": [
    "y_train.head()"
   ]
  },
  {
   "cell_type": "code",
   "execution_count": 31,
   "id": "e6248ee8",
   "metadata": {},
   "outputs": [
    {
     "data": {
      "text/plain": [
       "DecisionTreeClassifier()"
      ]
     },
     "execution_count": 31,
     "metadata": {},
     "output_type": "execute_result"
    }
   ],
   "source": [
    "from sklearn.tree import DecisionTreeClassifier\n",
    "classifier = DecisionTreeClassifier()\n",
    "classifier.fit(X_train, y_train)"
   ]
  },
  {
   "cell_type": "code",
   "execution_count": 32,
   "id": "49f7b738",
   "metadata": {},
   "outputs": [
    {
     "data": {
      "text/plain": [
       "[Text(167.4, 163.07999999999998, 'X[0] <= 0.0\\ngini = 0.5\\nsamples = 4\\nvalue = [2, 2]'),\n",
       " Text(83.7, 54.360000000000014, 'gini = 0.0\\nsamples = 2\\nvalue = [2, 0]'),\n",
       " Text(251.10000000000002, 54.360000000000014, 'gini = 0.0\\nsamples = 2\\nvalue = [0, 2]')]"
      ]
     },
     "execution_count": 32,
     "metadata": {},
     "output_type": "execute_result"
    },
    {
     "data": {
      "image/png": "[encoded data removed]",
      "text/plain": [
       "<Figure size 432x288 with 1 Axes>"
      ]
     },
     "metadata": {
      "needs_background": "light"
     },
     "output_type": "display_data"
    }
   ],
   "source": [
    "#посторим дерево решений \n",
    "from sklearn import tree\n",
    "tree.plot_tree(classifier)"
   ]
  },
  {
   "cell_type": "code",
   "execution_count": 33,
   "id": "3065886f",
   "metadata": {},
   "outputs": [
    {
     "data": {
      "text/plain": [
       "array([0, 1], dtype=int64)"
      ]
     },
     "execution_count": 33,
     "metadata": {},
     "output_type": "execute_result"
    }
   ],
   "source": [
    "#Для составления прогнозов используется метод predict класса Decision Tree Classifier. \n",
    "#Взгляните на следующий код для использования.\n",
    "y_pred = classifier.predict(X_test)\n",
    "y_pred"
   ]
  },
  {
   "cell_type": "code",
   "execution_count": 34,
   "id": "4ba87f2d",
   "metadata": {},
   "outputs": [
    {
     "name": "stdout",
     "output_type": "stream",
     "text": [
      "[[1 0]\n",
      " [0 1]]\n",
      "              precision    recall  f1-score   support\n",
      "\n",
      "           0       1.00      1.00      1.00         1\n",
      "           1       1.00      1.00      1.00         1\n",
      "\n",
      "    accuracy                           1.00         2\n",
      "   macro avg       1.00      1.00      1.00         2\n",
      "weighted avg       1.00      1.00      1.00         2\n",
      "\n"
     ]
    }
   ],
   "source": [
    "#проверяю на точность\n",
    "from sklearn.metrics import classification_report, confusion_matrix\n",
    "print(confusion_matrix(y_test, y_pred))\n",
    "print(classification_report(y_test, y_pred))"
   ]
  },
  {
   "cell_type": "markdown",
   "id": "aa3e4bf0",
   "metadata": {},
   "source": [
    "1.4.1 Пример. \n",
    "Постойте регрессию с использованием дерева решений, реализованного в\n",
    "Python."
   ]
  },
  {
   "cell_type": "code",
   "execution_count": 18,
   "id": "3eb8ea1b",
   "metadata": {},
   "outputs": [
    {
     "name": "stdout",
     "output_type": "stream",
     "text": [
      "(30, 2)\n"
     ]
    },
    {
     "data": {
      "text/html": [
       "<div>\n",
       "<style scoped>\n",
       "    .dataframe tbody tr th:only-of-type {\n",
       "        vertical-align: middle;\n",
       "    }\n",
       "\n",
       "    .dataframe tbody tr th {\n",
       "        vertical-align: top;\n",
       "    }\n",
       "\n",
       "    .dataframe thead th {\n",
       "        text-align: right;\n",
       "    }\n",
       "</style>\n",
       "<table border=\"1\" class=\"dataframe\">\n",
       "  <thead>\n",
       "    <tr style=\"text-align: right;\">\n",
       "      <th></th>\n",
       "      <th>YearsExperience</th>\n",
       "      <th>Salary</th>\n",
       "    </tr>\n",
       "  </thead>\n",
       "  <tbody>\n",
       "    <tr>\n",
       "      <th>count</th>\n",
       "      <td>30.000000</td>\n",
       "      <td>30.000000</td>\n",
       "    </tr>\n",
       "    <tr>\n",
       "      <th>mean</th>\n",
       "      <td>5.313333</td>\n",
       "      <td>76003.000000</td>\n",
       "    </tr>\n",
       "    <tr>\n",
       "      <th>std</th>\n",
       "      <td>2.837888</td>\n",
       "      <td>27414.429785</td>\n",
       "    </tr>\n",
       "    <tr>\n",
       "      <th>min</th>\n",
       "      <td>1.100000</td>\n",
       "      <td>37731.000000</td>\n",
       "    </tr>\n",
       "    <tr>\n",
       "      <th>25%</th>\n",
       "      <td>3.200000</td>\n",
       "      <td>56720.750000</td>\n",
       "    </tr>\n",
       "    <tr>\n",
       "      <th>50%</th>\n",
       "      <td>4.700000</td>\n",
       "      <td>65237.000000</td>\n",
       "    </tr>\n",
       "    <tr>\n",
       "      <th>75%</th>\n",
       "      <td>7.700000</td>\n",
       "      <td>100544.750000</td>\n",
       "    </tr>\n",
       "    <tr>\n",
       "      <th>max</th>\n",
       "      <td>10.500000</td>\n",
       "      <td>122391.000000</td>\n",
       "    </tr>\n",
       "  </tbody>\n",
       "</table>\n",
       "</div>"
      ],
      "text/plain": [
       "       YearsExperience         Salary\n",
       "count        30.000000      30.000000\n",
       "mean          5.313333   76003.000000\n",
       "std           2.837888   27414.429785\n",
       "min           1.100000   37731.000000\n",
       "25%           3.200000   56720.750000\n",
       "50%           4.700000   65237.000000\n",
       "75%           7.700000  100544.750000\n",
       "max          10.500000  122391.000000"
      ]
     },
     "execution_count": 18,
     "metadata": {},
     "output_type": "execute_result"
    }
   ],
   "source": [
    "import pandas as pd\n",
    "import numpy as np\n",
    "import matplotlib.pyplot as plt\n",
    "\n",
    "url= r'https://raw.githubusercontent.com/AnnaShestova/salary-years-simple-linear-regression/master/Salary_Data.csv'\n",
    "dataset = pd.read_csv(url)\n",
    "dataset.head()\n",
    "\n",
    "#Исследуем набор данных\n",
    "print(dataset.shape)\n",
    "dataset.describe()"
   ]
  },
  {
   "cell_type": "code",
   "execution_count": 19,
   "id": "acca6f59",
   "metadata": {},
   "outputs": [
    {
     "data": {
      "image/png": "[encoded data removed]",
      "text/plain": [
       "<Figure size 432x288 with 1 Axes>"
      ]
     },
     "metadata": {
      "needs_background": "light"
     },
     "output_type": "display_data"
    }
   ],
   "source": [
    "#Нарисуем точечную  диаграмму\n",
    "plt.scatter (dataset['YearsExperience'], dataset['Salary'], color = 'b', label = \"Заработная плата\")\n",
    "plt.xlabel(\"Опыт(лет)\")\n",
    "plt.ylabel(\"Заработная плата\")\n",
    "plt.show()"
   ]
  },
  {
   "cell_type": "code",
   "execution_count": 21,
   "id": "9466bcd3",
   "metadata": {},
   "outputs": [
    {
     "name": "stdout",
     "output_type": "stream",
     "text": [
      "[[ 1.1]\n",
      " [ 1.3]\n",
      " [ 1.5]\n",
      " [ 2. ]\n",
      " [ 2.2]\n",
      " [ 2.9]\n",
      " [ 3. ]\n",
      " [ 3.2]\n",
      " [ 3.2]\n",
      " [ 3.7]\n",
      " [ 3.9]\n",
      " [ 4. ]\n",
      " [ 4. ]\n",
      " [ 4.1]\n",
      " [ 4.5]\n",
      " [ 4.9]\n",
      " [ 5.1]\n",
      " [ 5.3]\n",
      " [ 5.9]\n",
      " [ 6. ]\n",
      " [ 6.8]\n",
      " [ 7.1]\n",
      " [ 7.9]\n",
      " [ 8.2]\n",
      " [ 8.7]\n",
      " [ 9. ]\n",
      " [ 9.5]\n",
      " [ 9.6]\n",
      " [10.3]\n",
      " [10.5]]\n",
      "[ 39343.  46205.  37731.  43525.  39891.  56642.  60150.  54445.  64445.\n",
      "  57189.  63218.  55794.  56957.  57081.  61111.  67938.  66029.  83088.\n",
      "  81363.  93940.  91738.  98273. 101302. 113812. 109431. 105582. 116969.\n",
      " 112635. 122391. 121872.]\n"
     ]
    },
    {
     "data": {
      "text/plain": [
       "DecisionTreeRegressor()"
      ]
     },
     "execution_count": 21,
     "metadata": {},
     "output_type": "execute_result"
    }
   ],
   "source": [
    "from sklearn.tree import DecisionTreeRegressor\n",
    "X = dataset.iloc[:, :-1].values\n",
    "y = dataset.iloc[:, 1].values\n",
    "print(X)\n",
    "print(y)\n",
    "\n",
    "#Теперь, когда у нас есть атрибуты и метки, необходимо разделить их на а обучающий и тестовый наборы.\n",
    "#Приведенный фрагмент разделяет 80% данных на обучающий набор, а 20% данных - на набор тестов\n",
    "X_train, X_test, y_train, y_test = train_test_split(X, y, test_size = 0.2, random_state = 0)\n",
    "\n",
    "#далее можно обучить алгоритм линейной регрессии\n",
    "#необходимо импортировать класс LinearRegression, создать его экзмепляр и вызвать метод fit()\n",
    "regressor = DecisionTreeRegressor()\n",
    "regressor.fit(X_train, y_train)"
   ]
  },
  {
   "cell_type": "code",
   "execution_count": 22,
   "id": "937473f0",
   "metadata": {},
   "outputs": [
    {
     "data": {
      "text/plain": [
       "[Text(165.95689655172413, 203.85, 'X[0] <= 5.2\\nmse = 614737637.832\\nsamples = 24\\nvalue = 73886.208'),\n",
       " Text(69.26896551724138, 176.67000000000002, 'X[0] <= 2.55\\nmse = 81200345.857\\nsamples = 14\\nvalue = 54976.0'),\n",
       " Text(23.089655172413792, 149.49, 'X[0] <= 1.2\\nmse = 7820714.0\\nsamples = 4\\nvalue = 42241.0'),\n",
       " Text(11.544827586206896, 122.31, 'mse = 0.0\\nsamples = 1\\nvalue = 39343.0'),\n",
       " Text(34.63448275862069, 122.31, 'X[0] <= 2.1\\nmse = 6694994.667\\nsamples = 3\\nvalue = 43207.0'),\n",
       " Text(23.089655172413792, 95.13, 'X[0] <= 1.65\\nmse = 1795600.0\\nsamples = 2\\nvalue = 44865.0'),\n",
       " Text(11.544827586206896, 67.94999999999999, 'mse = 0.0\\nsamples = 1\\nvalue = 46205.0'),\n",
       " Text(34.63448275862069, 67.94999999999999, 'mse = 0.0\\nsamples = 1\\nvalue = 43525.0'),\n",
       " Text(46.179310344827584, 95.13, 'mse = 0.0\\nsamples = 1\\nvalue = 39891.0'),\n",
       " Text(115.44827586206895, 149.49, 'X[0] <= 4.7\\nmse = 19731272.6\\nsamples = 10\\nvalue = 60070.0'),\n",
       " Text(92.35862068965517, 122.31, 'X[0] <= 4.25\\nmse = 9499922.484\\nsamples = 8\\nvalue = 58341.625'),\n",
       " Text(80.81379310344828, 95.13, 'X[0] <= 3.45\\nmse = 9604901.143\\nsamples = 7\\nvalue = 57946.0'),\n",
       " Text(57.72413793103448, 67.94999999999999, 'X[0] <= 2.95\\nmse = 14313358.25\\nsamples = 4\\nvalue = 58920.5'),\n",
       " Text(46.179310344827584, 40.77000000000001, 'mse = 0.0\\nsamples = 1\\nvalue = 56642.0'),\n",
       " Text(69.26896551724138, 40.77000000000001, 'X[0] <= 3.1\\nmse = 16777116.667\\nsamples = 3\\nvalue = 59680.0'),\n",
       " Text(57.72413793103448, 13.590000000000003, 'mse = 0.0\\nsamples = 1\\nvalue = 60150.0'),\n",
       " Text(80.81379310344828, 13.590000000000003, 'mse = 25000000.0\\nsamples = 2\\nvalue = 59445.0'),\n",
       " Text(103.90344827586206, 67.94999999999999, 'X[0] <= 3.85\\nmse = 372490.889\\nsamples = 3\\nvalue = 56646.667'),\n",
       " Text(92.35862068965517, 40.77000000000001, 'mse = 0.0\\nsamples = 1\\nvalue = 57189.0'),\n",
       " Text(115.44827586206895, 40.77000000000001, 'mse = 338142.25\\nsamples = 2\\nvalue = 56375.5'),\n",
       " Text(103.90344827586206, 95.13, 'mse = 0.0\\nsamples = 1\\nvalue = 61111.0'),\n",
       " Text(138.53793103448277, 122.31, 'X[0] <= 5.0\\nmse = 911070.25\\nsamples = 2\\nvalue = 66983.5'),\n",
       " Text(126.99310344827586, 95.13, 'mse = 0.0\\nsamples = 1\\nvalue = 67938.0'),\n",
       " Text(150.08275862068965, 95.13, 'mse = 0.0\\nsamples = 1\\nvalue = 66029.0'),\n",
       " Text(262.6448275862069, 176.67000000000002, 'X[0] <= 8.05\\nmse = 160167356.45\\nsamples = 10\\nvalue = 100360.5'),\n",
       " Text(213.57931034482758, 149.49, 'X[0] <= 5.95\\nmse = 53566814.556\\nsamples = 6\\nvalue = 91617.333'),\n",
       " Text(184.71724137931034, 122.31, 'X[0] <= 5.6\\nmse = 743906.25\\nsamples = 2\\nvalue = 82225.5'),\n",
       " Text(173.17241379310343, 95.13, 'mse = 0.0\\nsamples = 1\\nvalue = 83088.0'),\n",
       " Text(196.26206896551724, 95.13, 'mse = 0.0\\nsamples = 1\\nvalue = 81363.0'),\n",
       " Text(242.44137931034481, 122.31, 'X[0] <= 6.95\\nmse = 13823368.688\\nsamples = 4\\nvalue = 96313.25'),\n",
       " Text(219.35172413793103, 95.13, 'X[0] <= 6.4\\nmse = 1212201.0\\nsamples = 2\\nvalue = 92839.0'),\n",
       " Text(207.80689655172412, 67.94999999999999, 'mse = 0.0\\nsamples = 1\\nvalue = 93940.0'),\n",
       " Text(230.8965517241379, 67.94999999999999, 'mse = 0.0\\nsamples = 1\\nvalue = 91738.0'),\n",
       " Text(265.5310344827586, 95.13, 'X[0] <= 7.5\\nmse = 2293710.25\\nsamples = 2\\nvalue = 99787.5'),\n",
       " Text(253.98620689655172, 67.94999999999999, 'mse = 0.0\\nsamples = 1\\nvalue = 98273.0'),\n",
       " Text(277.07586206896553, 67.94999999999999, 'mse = 0.0\\nsamples = 1\\nvalue = 101302.0'),\n",
       " Text(311.7103448275862, 149.49, 'X[0] <= 10.05\\nmse = 33407056.688\\nsamples = 4\\nvalue = 113475.25'),\n",
       " Text(300.1655172413793, 122.31, 'X[0] <= 8.6\\nmse = 13207004.222\\nsamples = 3\\nvalue = 110676.333'),\n",
       " Text(288.6206896551724, 95.13, 'mse = 0.0\\nsamples = 1\\nvalue = 113812.0'),\n",
       " Text(311.7103448275862, 95.13, 'X[0] <= 9.3\\nmse = 12436202.25\\nsamples = 2\\nvalue = 109108.5'),\n",
       " Text(300.1655172413793, 67.94999999999999, 'mse = 0.0\\nsamples = 1\\nvalue = 105582.0'),\n",
       " Text(323.2551724137931, 67.94999999999999, 'mse = 0.0\\nsamples = 1\\nvalue = 112635.0'),\n",
       " Text(323.2551724137931, 122.31, 'mse = 0.0\\nsamples = 1\\nvalue = 121872.0')]"
      ]
     },
     "execution_count": 22,
     "metadata": {},
     "output_type": "execute_result"
    },
    {
     "data": {
      "image/png": "[encoded data removed]",
      "text/plain": [
       "<Figure size 432x288 with 1 Axes>"
      ]
     },
     "metadata": {
      "needs_background": "light"
     },
     "output_type": "display_data"
    }
   ],
   "source": [
    "from sklearn import tree\n",
    "tree.plot_tree(regressor)"
   ]
  },
  {
   "cell_type": "code",
   "execution_count": 23,
   "id": "42983c25",
   "metadata": {},
   "outputs": [
    {
     "data": {
      "text/plain": [
       "array([ 46205. , 121872. ,  56375.5,  56375.5, 112635. , 105582. ])"
      ]
     },
     "execution_count": 23,
     "metadata": {},
     "output_type": "execute_result"
    }
   ],
   "source": [
    "#построим прогноз\n",
    "y_pred = regressor.predict(X_test)\n",
    "y_pred"
   ]
  },
  {
   "cell_type": "code",
   "execution_count": 24,
   "id": "a32c5e49",
   "metadata": {},
   "outputs": [
    {
     "data": {
      "text/html": [
       "<div>\n",
       "<style scoped>\n",
       "    .dataframe tbody tr th:only-of-type {\n",
       "        vertical-align: middle;\n",
       "    }\n",
       "\n",
       "    .dataframe tbody tr th {\n",
       "        vertical-align: top;\n",
       "    }\n",
       "\n",
       "    .dataframe thead th {\n",
       "        text-align: right;\n",
       "    }\n",
       "</style>\n",
       "<table border=\"1\" class=\"dataframe\">\n",
       "  <thead>\n",
       "    <tr style=\"text-align: right;\">\n",
       "      <th></th>\n",
       "      <th>Actual</th>\n",
       "      <th>Predicted</th>\n",
       "    </tr>\n",
       "  </thead>\n",
       "  <tbody>\n",
       "    <tr>\n",
       "      <th>0</th>\n",
       "      <td>37731.0</td>\n",
       "      <td>46205.0</td>\n",
       "    </tr>\n",
       "    <tr>\n",
       "      <th>1</th>\n",
       "      <td>122391.0</td>\n",
       "      <td>121872.0</td>\n",
       "    </tr>\n",
       "    <tr>\n",
       "      <th>2</th>\n",
       "      <td>57081.0</td>\n",
       "      <td>56375.5</td>\n",
       "    </tr>\n",
       "    <tr>\n",
       "      <th>3</th>\n",
       "      <td>63218.0</td>\n",
       "      <td>56375.5</td>\n",
       "    </tr>\n",
       "    <tr>\n",
       "      <th>4</th>\n",
       "      <td>116969.0</td>\n",
       "      <td>112635.0</td>\n",
       "    </tr>\n",
       "    <tr>\n",
       "      <th>5</th>\n",
       "      <td>109431.0</td>\n",
       "      <td>105582.0</td>\n",
       "    </tr>\n",
       "  </tbody>\n",
       "</table>\n",
       "</div>"
      ],
      "text/plain": [
       "     Actual  Predicted\n",
       "0   37731.0    46205.0\n",
       "1  122391.0   121872.0\n",
       "2   57081.0    56375.5\n",
       "3   63218.0    56375.5\n",
       "4  116969.0   112635.0\n",
       "5  109431.0   105582.0"
      ]
     },
     "execution_count": 24,
     "metadata": {},
     "output_type": "execute_result"
    }
   ],
   "source": [
    "#Теперь сравним некоторые из наших прогнозируемых значений с фактическими значениями:\n",
    "df = pd.DataFrame({'Actual':y_test, 'Predicted':y_pred})\n",
    "df"
   ]
  },
  {
   "cell_type": "code",
   "execution_count": 25,
   "id": "bfa7cea2",
   "metadata": {},
   "outputs": [
    {
     "name": "stdout",
     "output_type": "stream",
     "text": [
      "Mean Squared Error: 25498988.416666668\n",
      "Mean Absolute Error: 4120.666666666667\n"
     ]
    }
   ],
   "source": [
    "#Рассчитаем среднюю абсолютную и среднеквадратичную ошибку регрессии:\n",
    "from sklearn import metrics\n",
    "print('Mean Squared Error:', metrics.mean_squared_error(y_test, y_pred))\n",
    "print('Mean Absolute Error:', metrics.mean_absolute_error(y_test, y_pred))"
   ]
  },
  {
   "cell_type": "code",
   "execution_count": 26,
   "id": "393686aa",
   "metadata": {},
   "outputs": [
    {
     "data": {
      "text/plain": [
       "5.421715809463662"
      ]
     },
     "execution_count": 26,
     "metadata": {},
     "output_type": "execute_result"
    }
   ],
   "source": [
    "metrics.mean_absolute_error(y_test, y_pred) / np.average(y) * 100"
   ]
  },
  {
   "cell_type": "markdown",
   "id": "e2f82c8c",
   "metadata": {},
   "source": [
    "Средняя абсолютная ошибка для нашего алгоритма составляет 4120.66,\n",
    "что составляет менее 6 процентов от среднего значения всех значений в\n",
    "столбце."
   ]
  },
  {
   "cell_type": "markdown",
   "id": "9ce46356",
   "metadata": {},
   "source": [
    "Задание.  Постройте модель регрессии для данных из предыдущей рабочей\n",
    "тетради.Для примера можно взять потребления газа (в миллионах\n",
    "галлонов) в 48 штатах США или набор данных о качестве красного вина:\n",
    "https://raw.githubusercontent.com/likarajo/petrol_consumption/master/data/pet\n",
    "rol_consumption.csv\n",
    "https://raw.githubusercontent.com/aniruddhachoudhury/Red-WineQuality/master/winequality-red.csv\n",
    "Постройте прогноз. Оцените точность модели."
   ]
  },
  {
   "cell_type": "code",
   "execution_count": 6,
   "id": "21247935",
   "metadata": {},
   "outputs": [
    {
     "name": "stdout",
     "output_type": "stream",
     "text": [
      "(48, 5)\n"
     ]
    },
    {
     "data": {
      "text/html": [
       "<div>\n",
       "<style scoped>\n",
       "    .dataframe tbody tr th:only-of-type {\n",
       "        vertical-align: middle;\n",
       "    }\n",
       "\n",
       "    .dataframe tbody tr th {\n",
       "        vertical-align: top;\n",
       "    }\n",
       "\n",
       "    .dataframe thead th {\n",
       "        text-align: right;\n",
       "    }\n",
       "</style>\n",
       "<table border=\"1\" class=\"dataframe\">\n",
       "  <thead>\n",
       "    <tr style=\"text-align: right;\">\n",
       "      <th></th>\n",
       "      <th>Petrol_tax</th>\n",
       "      <th>Average_income</th>\n",
       "      <th>Paved_Highways</th>\n",
       "      <th>Population_Driver_licence(%)</th>\n",
       "      <th>Petrol_Consumption</th>\n",
       "    </tr>\n",
       "  </thead>\n",
       "  <tbody>\n",
       "    <tr>\n",
       "      <th>count</th>\n",
       "      <td>48.000000</td>\n",
       "      <td>48.000000</td>\n",
       "      <td>48.000000</td>\n",
       "      <td>48.000000</td>\n",
       "      <td>48.000000</td>\n",
       "    </tr>\n",
       "    <tr>\n",
       "      <th>mean</th>\n",
       "      <td>7.668333</td>\n",
       "      <td>4241.833333</td>\n",
       "      <td>5565.416667</td>\n",
       "      <td>0.570333</td>\n",
       "      <td>576.770833</td>\n",
       "    </tr>\n",
       "    <tr>\n",
       "      <th>std</th>\n",
       "      <td>0.950770</td>\n",
       "      <td>573.623768</td>\n",
       "      <td>3491.507166</td>\n",
       "      <td>0.055470</td>\n",
       "      <td>111.885816</td>\n",
       "    </tr>\n",
       "    <tr>\n",
       "      <th>min</th>\n",
       "      <td>5.000000</td>\n",
       "      <td>3063.000000</td>\n",
       "      <td>431.000000</td>\n",
       "      <td>0.451000</td>\n",
       "      <td>344.000000</td>\n",
       "    </tr>\n",
       "    <tr>\n",
       "      <th>25%</th>\n",
       "      <td>7.000000</td>\n",
       "      <td>3739.000000</td>\n",
       "      <td>3110.250000</td>\n",
       "      <td>0.529750</td>\n",
       "      <td>509.500000</td>\n",
       "    </tr>\n",
       "    <tr>\n",
       "      <th>50%</th>\n",
       "      <td>7.500000</td>\n",
       "      <td>4298.000000</td>\n",
       "      <td>4735.500000</td>\n",
       "      <td>0.564500</td>\n",
       "      <td>568.500000</td>\n",
       "    </tr>\n",
       "    <tr>\n",
       "      <th>75%</th>\n",
       "      <td>8.125000</td>\n",
       "      <td>4578.750000</td>\n",
       "      <td>7156.000000</td>\n",
       "      <td>0.595250</td>\n",
       "      <td>632.750000</td>\n",
       "    </tr>\n",
       "    <tr>\n",
       "      <th>max</th>\n",
       "      <td>10.000000</td>\n",
       "      <td>5342.000000</td>\n",
       "      <td>17782.000000</td>\n",
       "      <td>0.724000</td>\n",
       "      <td>968.000000</td>\n",
       "    </tr>\n",
       "  </tbody>\n",
       "</table>\n",
       "</div>"
      ],
      "text/plain": [
       "       Petrol_tax  Average_income  Paved_Highways  \\\n",
       "count   48.000000       48.000000       48.000000   \n",
       "mean     7.668333     4241.833333     5565.416667   \n",
       "std      0.950770      573.623768     3491.507166   \n",
       "min      5.000000     3063.000000      431.000000   \n",
       "25%      7.000000     3739.000000     3110.250000   \n",
       "50%      7.500000     4298.000000     4735.500000   \n",
       "75%      8.125000     4578.750000     7156.000000   \n",
       "max     10.000000     5342.000000    17782.000000   \n",
       "\n",
       "       Population_Driver_licence(%)  Petrol_Consumption  \n",
       "count                     48.000000           48.000000  \n",
       "mean                       0.570333          576.770833  \n",
       "std                        0.055470          111.885816  \n",
       "min                        0.451000          344.000000  \n",
       "25%                        0.529750          509.500000  \n",
       "50%                        0.564500          568.500000  \n",
       "75%                        0.595250          632.750000  \n",
       "max                        0.724000          968.000000  "
      ]
     },
     "execution_count": 6,
     "metadata": {},
     "output_type": "execute_result"
    }
   ],
   "source": [
    "import pandas as pd\n",
    "import numpy as np\n",
    "import matplotlib.pyplot as plt\n",
    "\n",
    "url= r'https://raw.githubusercontent.com/likarajo/petrol_consumption/master/data/petrol_consumption.csv'\n",
    "dataset = pd.read_csv(url)\n",
    "dataset.head()\n",
    "\n",
    "#Исследуем набор данных\n",
    "print(dataset.shape)\n",
    "dataset.describe()"
   ]
  },
  {
   "cell_type": "code",
   "execution_count": 8,
   "id": "7d8c1814",
   "metadata": {},
   "outputs": [
    {
     "data": {
      "image/png": "[encoded data removed]",
      "text/plain": [
       "<Figure size 432x288 with 1 Axes>"
      ]
     },
     "metadata": {
      "needs_background": "light"
     },
     "output_type": "display_data"
    }
   ],
   "source": [
    "#Нарисуем точечную  диаграмму\n",
    "plt.scatter(dataset['Petrol_tax'], dataset['Petrol_Consumption'], color = 'c', label = \"Потребление газа\")\n",
    "plt.xlabel(\"Расход\")\n",
    "plt.ylabel(\"Налог на газ\")\n",
    "plt.show()"
   ]
  },
  {
   "cell_type": "code",
   "execution_count": 10,
   "id": "9b10d161",
   "metadata": {},
   "outputs": [
    {
     "name": "stdout",
     "output_type": "stream",
     "text": [
      "[[9.0000e+00 3.5710e+03 1.9760e+03 5.2500e-01]\n",
      " [9.0000e+00 4.0920e+03 1.2500e+03 5.7200e-01]\n",
      " [9.0000e+00 3.8650e+03 1.5860e+03 5.8000e-01]\n",
      " [7.5000e+00 4.8700e+03 2.3510e+03 5.2900e-01]\n",
      " [8.0000e+00 4.3990e+03 4.3100e+02 5.4400e-01]\n",
      " [1.0000e+01 5.3420e+03 1.3330e+03 5.7100e-01]\n",
      " [8.0000e+00 5.3190e+03 1.1868e+04 4.5100e-01]\n",
      " [8.0000e+00 5.1260e+03 2.1380e+03 5.5300e-01]\n",
      " [8.0000e+00 4.4470e+03 8.5770e+03 5.2900e-01]\n",
      " [7.0000e+00 4.5120e+03 8.5070e+03 5.5200e-01]\n",
      " [8.0000e+00 4.3910e+03 5.9390e+03 5.3000e-01]\n",
      " [7.5000e+00 5.1260e+03 1.4186e+04 5.2500e-01]\n",
      " [7.0000e+00 4.8170e+03 6.9300e+03 5.7400e-01]\n",
      " [7.0000e+00 4.2070e+03 6.5800e+03 5.4500e-01]\n",
      " [7.0000e+00 4.3320e+03 8.1590e+03 6.0800e-01]\n",
      " [7.0000e+00 4.3180e+03 1.0340e+04 5.8600e-01]\n",
      " [7.0000e+00 4.2060e+03 8.5080e+03 5.7200e-01]\n",
      " [7.0000e+00 3.7180e+03 4.7250e+03 5.4000e-01]\n",
      " [7.0000e+00 4.7160e+03 5.9150e+03 7.2400e-01]\n",
      " [8.5000e+00 4.3410e+03 6.0100e+03 6.7700e-01]\n",
      " [7.0000e+00 4.5930e+03 7.8340e+03 6.6300e-01]\n",
      " [8.0000e+00 4.9830e+03 6.0200e+02 6.0200e-01]\n",
      " [9.0000e+00 4.8970e+03 2.4490e+03 5.1100e-01]\n",
      " [9.0000e+00 4.2580e+03 4.6860e+03 5.1700e-01]\n",
      " [8.5000e+00 4.5740e+03 2.6190e+03 5.5100e-01]\n",
      " [9.0000e+00 3.7210e+03 4.7460e+03 5.4400e-01]\n",
      " [8.0000e+00 3.4480e+03 5.3990e+03 5.4800e-01]\n",
      " [7.5000e+00 3.8460e+03 9.0610e+03 5.7900e-01]\n",
      " [8.0000e+00 4.1880e+03 5.9750e+03 5.6300e-01]\n",
      " [9.0000e+00 3.6010e+03 4.6500e+03 4.9300e-01]\n",
      " [7.0000e+00 3.6400e+03 6.9050e+03 5.1800e-01]\n",
      " [7.0000e+00 3.3330e+03 6.5940e+03 5.1300e-01]\n",
      " [8.0000e+00 3.0630e+03 6.5240e+03 5.7800e-01]\n",
      " [7.5000e+00 3.3570e+03 4.1210e+03 5.4700e-01]\n",
      " [8.0000e+00 3.5280e+03 3.4950e+03 4.8700e-01]\n",
      " [6.5800e+00 3.8020e+03 7.8340e+03 6.2900e-01]\n",
      " [5.0000e+00 4.0450e+03 1.7782e+04 5.6600e-01]\n",
      " [7.0000e+00 3.8970e+03 6.3850e+03 5.8600e-01]\n",
      " [8.5000e+00 3.6350e+03 3.2740e+03 6.6300e-01]\n",
      " [7.0000e+00 4.3450e+03 3.9050e+03 6.7200e-01]\n",
      " [7.0000e+00 4.4490e+03 4.6390e+03 6.2600e-01]\n",
      " [7.0000e+00 3.6560e+03 3.9850e+03 5.6300e-01]\n",
      " [7.0000e+00 4.3000e+03 3.6350e+03 6.0300e-01]\n",
      " [7.0000e+00 3.7450e+03 2.6110e+03 5.0800e-01]\n",
      " [6.0000e+00 5.2150e+03 2.3020e+03 6.7200e-01]\n",
      " [9.0000e+00 4.4760e+03 3.9420e+03 5.7100e-01]\n",
      " [7.0000e+00 4.2960e+03 4.0830e+03 6.2300e-01]\n",
      " [7.0000e+00 5.0020e+03 9.7940e+03 5.9300e-01]]\n",
      "[3571 4092 3865 4870 4399 5342 5319 5126 4447 4512 4391 5126 4817 4207\n",
      " 4332 4318 4206 3718 4716 4341 4593 4983 4897 4258 4574 3721 3448 3846\n",
      " 4188 3601 3640 3333 3063 3357 3528 3802 4045 3897 3635 4345 4449 3656\n",
      " 4300 3745 5215 4476 4296 5002]\n"
     ]
    },
    {
     "data": {
      "text/plain": [
       "DecisionTreeRegressor()"
      ]
     },
     "execution_count": 10,
     "metadata": {},
     "output_type": "execute_result"
    }
   ],
   "source": [
    "from sklearn.model_selection import train_test_split\n",
    "from sklearn.tree import DecisionTreeRegressor\n",
    "X = dataset.iloc[:, :-1].values\n",
    "y = dataset.iloc[:, 1].values\n",
    "print(X)\n",
    "print(y)\n",
    "\n",
    "#Теперь, когда у нас есть атрибуты и метки, необходимо разделить их на а обучающий и тестовый наборы.\n",
    "#Приведенный фрагмент разделяет 80% данных на обучающий набор, а 20% данных - на набор тестов\n",
    "X_train, X_test, y_train, y_test = train_test_split(X, y, test_size = 0.2, random_state = 0)\n",
    "\n",
    "#далее можно обучить алгоритм линейной регрессии\n",
    "#необходимо импортировать класс LinearRegression, создать его экзмепляр и вызвать метод fit()\n",
    "regressor = DecisionTreeRegressor()\n",
    "regressor.fit(X_train, y_train)"
   ]
  },
  {
   "cell_type": "code",
   "execution_count": 11,
   "id": "3049ee62",
   "metadata": {},
   "outputs": [
    {
     "data": {
      "text/plain": [
       "[Text(163.13750000000002, 203.85, 'X[1] <= 4396.0\\nmse = 288278.46\\nsamples = 38\\nvalue = 4317.526'),\n",
       " Text(76.72500000000001, 176.67000000000002, 'X[1] <= 3955.0\\nmse = 103912.083\\nsamples = 23\\nvalue = 3964.217'),\n",
       " Text(29.45, 149.49, 'X[1] <= 3464.0\\nmse = 28944.0\\nsamples = 11\\nvalue = 3659.0'),\n",
       " Text(12.4, 122.31, 'X[3] <= 0.53\\nmse = 144.0\\nsamples = 2\\nvalue = 3345.0'),\n",
       " Text(6.2, 95.13, 'mse = 0.0\\nsamples = 1\\nvalue = 3333.0'),\n",
       " Text(18.6, 95.13, 'mse = 0.0\\nsamples = 1\\nvalue = 3357.0'),\n",
       " Text(46.5, 122.31, 'X[1] <= 3773.5\\nmse = 8564.84\\nsamples = 9\\nvalue = 3728.778'),\n",
       " Text(31.0, 95.13, 'X[1] <= 3687.0\\nmse = 3606.556\\nsamples = 6\\nvalue = 3674.333'),\n",
       " Text(18.6, 67.94999999999999, 'X[2] <= 2625.0\\nmse = 1306.889\\nsamples = 3\\nvalue = 3620.667'),\n",
       " Text(12.4, 40.77000000000001, 'mse = 0.0\\nsamples = 1\\nvalue = 3571.0'),\n",
       " Text(24.8, 40.77000000000001, 'X[0] <= 7.75\\nmse = 110.25\\nsamples = 2\\nvalue = 3645.5'),\n",
       " Text(18.6, 13.590000000000003, 'mse = 0.0\\nsamples = 1\\nvalue = 3656.0'),\n",
       " Text(31.0, 13.590000000000003, 'mse = 0.0\\nsamples = 1\\nvalue = 3635.0'),\n",
       " Text(43.4, 67.94999999999999, 'X[3] <= 0.524\\nmse = 146.0\\nsamples = 3\\nvalue = 3728.0'),\n",
       " Text(37.2, 40.77000000000001, 'mse = 0.0\\nsamples = 1\\nvalue = 3745.0'),\n",
       " Text(49.6, 40.77000000000001, 'X[1] <= 3719.5\\nmse = 2.25\\nsamples = 2\\nvalue = 3719.5'),\n",
       " Text(43.4, 13.590000000000003, 'mse = 0.0\\nsamples = 1\\nvalue = 3718.0'),\n",
       " Text(55.800000000000004, 13.590000000000003, 'mse = 0.0\\nsamples = 1\\nvalue = 3721.0'),\n",
       " Text(62.0, 95.13, 'X[0] <= 7.04\\nmse = 696.222\\nsamples = 3\\nvalue = 3837.667'),\n",
       " Text(55.800000000000004, 67.94999999999999, 'mse = 0.0\\nsamples = 1\\nvalue = 3802.0'),\n",
       " Text(68.2, 67.94999999999999, 'X[3] <= 0.579\\nmse = 90.25\\nsamples = 2\\nvalue = 3855.5'),\n",
       " Text(62.0, 40.77000000000001, 'mse = 0.0\\nsamples = 1\\nvalue = 3846.0'),\n",
       " Text(74.4, 40.77000000000001, 'mse = 0.0\\nsamples = 1\\nvalue = 3865.0'),\n",
       " Text(124.0, 149.49, 'X[1] <= 4232.5\\nmse = 8960.0\\nsamples = 12\\nvalue = 4244.0'),\n",
       " Text(99.2, 122.31, 'X[1] <= 4140.0\\nmse = 4437.84\\nsamples = 5\\nvalue = 4147.6'),\n",
       " Text(86.8, 95.13, 'X[3] <= 0.569\\nmse = 552.25\\nsamples = 2\\nvalue = 4068.5'),\n",
       " Text(80.60000000000001, 67.94999999999999, 'mse = 0.0\\nsamples = 1\\nvalue = 4045.0'),\n",
       " Text(93.0, 67.94999999999999, 'mse = 0.0\\nsamples = 1\\nvalue = 4092.0'),\n",
       " Text(111.60000000000001, 95.13, 'X[2] <= 6277.5\\nmse = 76.222\\nsamples = 3\\nvalue = 4200.333'),\n",
       " Text(105.4, 67.94999999999999, 'mse = 0.0\\nsamples = 1\\nvalue = 4188.0'),\n",
       " Text(117.8, 67.94999999999999, 'X[3] <= 0.559\\nmse = 0.25\\nsamples = 2\\nvalue = 4206.5'),\n",
       " Text(111.60000000000001, 40.77000000000001, 'mse = 0.0\\nsamples = 1\\nvalue = 4207.0'),\n",
       " Text(124.0, 40.77000000000001, 'mse = 0.0\\nsamples = 1\\nvalue = 4206.0'),\n",
       " Text(148.8, 122.31, 'X[1] <= 4309.0\\nmse = 810.98\\nsamples = 7\\nvalue = 4312.857'),\n",
       " Text(136.4, 95.13, 'X[3] <= 0.56\\nmse = 358.222\\nsamples = 3\\nvalue = 4284.667'),\n",
       " Text(130.20000000000002, 67.94999999999999, 'mse = 0.0\\nsamples = 1\\nvalue = 4258.0'),\n",
       " Text(142.6, 67.94999999999999, 'X[1] <= 4298.0\\nmse = 4.0\\nsamples = 2\\nvalue = 4298.0'),\n",
       " Text(136.4, 40.77000000000001, 'mse = 0.0\\nsamples = 1\\nvalue = 4296.0'),\n",
       " Text(148.8, 40.77000000000001, 'mse = 0.0\\nsamples = 1\\nvalue = 4300.0'),\n",
       " Text(161.20000000000002, 95.13, 'X[3] <= 0.597\\nmse = 107.5\\nsamples = 4\\nvalue = 4334.0'),\n",
       " Text(155.0, 67.94999999999999, 'mse = 0.0\\nsamples = 1\\nvalue = 4318.0'),\n",
       " Text(167.4, 67.94999999999999, 'X[3] <= 0.64\\nmse = 29.556\\nsamples = 3\\nvalue = 4339.333'),\n",
       " Text(161.20000000000002, 40.77000000000001, 'mse = 0.0\\nsamples = 1\\nvalue = 4332.0'),\n",
       " Text(173.6, 40.77000000000001, 'X[0] <= 7.75\\nmse = 4.0\\nsamples = 2\\nvalue = 4343.0'),\n",
       " Text(167.4, 13.590000000000003, 'mse = 0.0\\nsamples = 1\\nvalue = 4345.0'),\n",
       " Text(179.8, 13.590000000000003, 'mse = 0.0\\nsamples = 1\\nvalue = 4341.0'),\n",
       " Text(249.55, 176.67000000000002, 'X[1] <= 4843.5\\nmse = 86089.262\\nsamples = 15\\nvalue = 4859.267'),\n",
       " Text(213.9, 149.49, 'X[1] <= 4654.5\\nmse = 15313.633\\nsamples = 7\\nvalue = 4590.714'),\n",
       " Text(198.4, 122.31, 'X[1] <= 4543.0\\nmse = 3114.64\\nsamples = 5\\nvalue = 4520.4'),\n",
       " Text(186.0, 95.13, 'X[0] <= 7.5\\nmse = 706.889\\nsamples = 3\\nvalue = 4478.333'),\n",
       " Text(179.8, 67.94999999999999, 'mse = 0.0\\nsamples = 1\\nvalue = 4512.0'),\n",
       " Text(192.20000000000002, 67.94999999999999, 'X[1] <= 4461.5\\nmse = 210.25\\nsamples = 2\\nvalue = 4461.5'),\n",
       " Text(186.0, 40.77000000000001, 'mse = 0.0\\nsamples = 1\\nvalue = 4447.0'),\n",
       " Text(198.4, 40.77000000000001, 'mse = 0.0\\nsamples = 1\\nvalue = 4476.0'),\n",
       " Text(210.8, 95.13, 'X[2] <= 5226.5\\nmse = 90.25\\nsamples = 2\\nvalue = 4583.5'),\n",
       " Text(204.6, 67.94999999999999, 'mse = 0.0\\nsamples = 1\\nvalue = 4574.0'),\n",
       " Text(217.0, 67.94999999999999, 'mse = 0.0\\nsamples = 1\\nvalue = 4593.0'),\n",
       " Text(229.4, 122.31, 'X[1] <= 4766.5\\nmse = 2550.25\\nsamples = 2\\nvalue = 4766.5'),\n",
       " Text(223.20000000000002, 95.13, 'mse = 0.0\\nsamples = 1\\nvalue = 4716.0'),\n",
       " Text(235.6, 95.13, 'mse = 0.0\\nsamples = 1\\nvalue = 4817.0'),\n",
       " Text(285.2, 149.49, 'X[1] <= 5064.0\\nmse = 29695.438\\nsamples = 8\\nvalue = 5094.25'),\n",
       " Text(260.40000000000003, 122.31, 'X[3] <= 0.561\\nmse = 3106.5\\nsamples = 4\\nvalue = 4938.0'),\n",
       " Text(248.0, 95.13, 'X[2] <= 2400.0\\nmse = 182.25\\nsamples = 2\\nvalue = 4883.5'),\n",
       " Text(241.8, 67.94999999999999, 'mse = 0.0\\nsamples = 1\\nvalue = 4870.0'),\n",
       " Text(254.20000000000002, 67.94999999999999, 'mse = 0.0\\nsamples = 1\\nvalue = 4897.0'),\n",
       " Text(272.8, 95.13, 'X[3] <= 0.597\\nmse = 90.25\\nsamples = 2\\nvalue = 4992.5'),\n",
       " Text(266.6, 67.94999999999999, 'mse = 0.0\\nsamples = 1\\nvalue = 5002.0'),\n",
       " Text(279.0, 67.94999999999999, 'mse = 0.0\\nsamples = 1\\nvalue = 4983.0'),\n",
       " Text(310.0, 122.31, 'X[0] <= 7.75\\nmse = 7456.25\\nsamples = 4\\nvalue = 5250.5'),\n",
       " Text(297.6, 95.13, 'X[1] <= 5170.5\\nmse = 1980.25\\nsamples = 2\\nvalue = 5170.5'),\n",
       " Text(291.40000000000003, 67.94999999999999, 'mse = 0.0\\nsamples = 1\\nvalue = 5126.0'),\n",
       " Text(303.8, 67.94999999999999, 'mse = 0.0\\nsamples = 1\\nvalue = 5215.0'),\n",
       " Text(322.40000000000003, 95.13, 'X[2] <= 6600.5\\nmse = 132.25\\nsamples = 2\\nvalue = 5330.5'),\n",
       " Text(316.2, 67.94999999999999, 'mse = 0.0\\nsamples = 1\\nvalue = 5342.0'),\n",
       " Text(328.6, 67.94999999999999, 'mse = 0.0\\nsamples = 1\\nvalue = 5319.0')]"
      ]
     },
     "execution_count": 11,
     "metadata": {},
     "output_type": "execute_result"
    },
    {
     "data": {
      "image/png": "[encoded data removed]",
      "text/plain": [
       "<Figure size 432x288 with 1 Axes>"
      ]
     },
     "metadata": {
      "needs_background": "light"
     },
     "output_type": "display_data"
    }
   ],
   "source": [
    "from sklearn import tree\n",
    "tree.plot_tree(regressor)"
   ]
  },
  {
   "cell_type": "code",
   "execution_count": 12,
   "id": "a12a8ca6",
   "metadata": {},
   "outputs": [
    {
     "data": {
      "text/plain": [
       "array([3635., 4447., 3357., 3656., 3357., 3802., 3635., 4512., 5342.,\n",
       "       4318.])"
      ]
     },
     "execution_count": 12,
     "metadata": {},
     "output_type": "execute_result"
    }
   ],
   "source": [
    "#построим прогноз\n",
    "y_pred = regressor.predict(X_test)\n",
    "y_pred"
   ]
  },
  {
   "cell_type": "code",
   "execution_count": 13,
   "id": "eaa8e522",
   "metadata": {},
   "outputs": [
    {
     "data": {
      "text/html": [
       "<div>\n",
       "<style scoped>\n",
       "    .dataframe tbody tr th:only-of-type {\n",
       "        vertical-align: middle;\n",
       "    }\n",
       "\n",
       "    .dataframe tbody tr th {\n",
       "        vertical-align: top;\n",
       "    }\n",
       "\n",
       "    .dataframe thead th {\n",
       "        text-align: right;\n",
       "    }\n",
       "</style>\n",
       "<table border=\"1\" class=\"dataframe\">\n",
       "  <thead>\n",
       "    <tr style=\"text-align: right;\">\n",
       "      <th></th>\n",
       "      <th>Actual</th>\n",
       "      <th>Predicted</th>\n",
       "    </tr>\n",
       "  </thead>\n",
       "  <tbody>\n",
       "    <tr>\n",
       "      <th>0</th>\n",
       "      <td>3601</td>\n",
       "      <td>3635.0</td>\n",
       "    </tr>\n",
       "    <tr>\n",
       "      <th>1</th>\n",
       "      <td>4399</td>\n",
       "      <td>4447.0</td>\n",
       "    </tr>\n",
       "    <tr>\n",
       "      <th>2</th>\n",
       "      <td>3448</td>\n",
       "      <td>3357.0</td>\n",
       "    </tr>\n",
       "    <tr>\n",
       "      <th>3</th>\n",
       "      <td>3640</td>\n",
       "      <td>3656.0</td>\n",
       "    </tr>\n",
       "    <tr>\n",
       "      <th>4</th>\n",
       "      <td>3063</td>\n",
       "      <td>3357.0</td>\n",
       "    </tr>\n",
       "    <tr>\n",
       "      <th>5</th>\n",
       "      <td>3897</td>\n",
       "      <td>3802.0</td>\n",
       "    </tr>\n",
       "    <tr>\n",
       "      <th>6</th>\n",
       "      <td>3528</td>\n",
       "      <td>3635.0</td>\n",
       "    </tr>\n",
       "    <tr>\n",
       "      <th>7</th>\n",
       "      <td>4449</td>\n",
       "      <td>4512.0</td>\n",
       "    </tr>\n",
       "    <tr>\n",
       "      <th>8</th>\n",
       "      <td>5126</td>\n",
       "      <td>5342.0</td>\n",
       "    </tr>\n",
       "    <tr>\n",
       "      <th>9</th>\n",
       "      <td>4391</td>\n",
       "      <td>4318.0</td>\n",
       "    </tr>\n",
       "  </tbody>\n",
       "</table>\n",
       "</div>"
      ],
      "text/plain": [
       "   Actual  Predicted\n",
       "0    3601     3635.0\n",
       "1    4399     4447.0\n",
       "2    3448     3357.0\n",
       "3    3640     3656.0\n",
       "4    3063     3357.0\n",
       "5    3897     3802.0\n",
       "6    3528     3635.0\n",
       "7    4449     4512.0\n",
       "8    5126     5342.0\n",
       "9    4391     4318.0"
      ]
     },
     "execution_count": 13,
     "metadata": {},
     "output_type": "execute_result"
    }
   ],
   "source": [
    "#Теперь сравним некоторые из наших прогнозируемых значений с фактическими значениями:\n",
    "df = pd.DataFrame({'Actual':y_test, 'Predicted':y_pred})\n",
    "df"
   ]
  },
  {
   "cell_type": "code",
   "execution_count": 14,
   "id": "98bf8f8b",
   "metadata": {},
   "outputs": [
    {
     "name": "stdout",
     "output_type": "stream",
     "text": [
      "Mean Squared Error: 17486.1\n",
      "Mean Absolute Error: 103.7\n"
     ]
    }
   ],
   "source": [
    "#Рассчитаем среднюю абсолютную и среднеквадратичную ошибку регрессии:\n",
    "from sklearn import metrics\n",
    "print('Mean Squared Error:', metrics.mean_squared_error(y_test, y_pred))\n",
    "print('Mean Absolute Error:', metrics.mean_absolute_error(y_test, y_pred))"
   ]
  },
  {
   "cell_type": "code",
   "execution_count": 15,
   "id": "c9010b8b",
   "metadata": {},
   "outputs": [
    {
     "data": {
      "text/plain": [
       "2.4446976543161374"
      ]
     },
     "execution_count": 15,
     "metadata": {},
     "output_type": "execute_result"
    }
   ],
   "source": [
    "metrics.mean_absolute_error(y_test, y_pred) / np.average(y) * 100"
   ]
  }
 ],
 "metadata": {
  "kernelspec": {
   "display_name": "Python 3",
   "language": "python",
   "name": "python3"
  },
  "language_info": {
   "codemirror_mode": {
    "name": "ipython",
    "version": 3
   },
   "file_extension": ".py",
   "mimetype": "text/x-python",
   "name": "python",
   "nbconvert_exporter": "python",
   "pygments_lexer": "ipython3",
   "version": "3.8.8"
  }
 },
 "nbformat": 4,
 "nbformat_minor": 5
}
