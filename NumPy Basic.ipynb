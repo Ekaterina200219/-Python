{
 "cells": [
  {
   "cell_type": "markdown",
   "id": "512b339a",
   "metadata": {},
   "source": [
    "# 1. Напишите программу NumPy, чтобы получить версию numpy и показать конфигурацию numpy build. "
   ]
  },
  {
   "cell_type": "code",
   "execution_count": 5,
   "id": "a3f7d63b",
   "metadata": {},
   "outputs": [
    {
     "name": "stdout",
     "output_type": "stream",
     "text": [
      "1.20.1\n",
      "blas_mkl_info:\n",
      "    libraries = ['mkl_rt']\n",
      "    library_dirs = ['C:/Users/User11/anaconda3\\\\Library\\\\lib']\n",
      "    define_macros = [('SCIPY_MKL_H', None), ('HAVE_CBLAS', None)]\n",
      "    include_dirs = ['C:/Users/User11/anaconda3\\\\Library\\\\include']\n",
      "blas_opt_info:\n",
      "    libraries = ['mkl_rt']\n",
      "    library_dirs = ['C:/Users/User11/anaconda3\\\\Library\\\\lib']\n",
      "    define_macros = [('SCIPY_MKL_H', None), ('HAVE_CBLAS', None)]\n",
      "    include_dirs = ['C:/Users/User11/anaconda3\\\\Library\\\\include']\n",
      "lapack_mkl_info:\n",
      "    libraries = ['mkl_rt']\n",
      "    library_dirs = ['C:/Users/User11/anaconda3\\\\Library\\\\lib']\n",
      "    define_macros = [('SCIPY_MKL_H', None), ('HAVE_CBLAS', None)]\n",
      "    include_dirs = ['C:/Users/User11/anaconda3\\\\Library\\\\include']\n",
      "lapack_opt_info:\n",
      "    libraries = ['mkl_rt']\n",
      "    library_dirs = ['C:/Users/User11/anaconda3\\\\Library\\\\lib']\n",
      "    define_macros = [('SCIPY_MKL_H', None), ('HAVE_CBLAS', None)]\n",
      "    include_dirs = ['C:/Users/User11/anaconda3\\\\Library\\\\include']\n",
      "None\n"
     ]
    }
   ],
   "source": [
    "import numpy as np\n",
    "print(np.version.version)\n",
    "print(np.show_config())"
   ]
  },
  {
   "cell_type": "markdown",
   "id": "bb671f2b",
   "metadata": {},
   "source": [
    "# 2. Напишите программу NumPy, чтобы получить справку по функции добавления."
   ]
  },
  {
   "cell_type": "code",
   "execution_count": 7,
   "id": "9ef7e7c2",
   "metadata": {},
   "outputs": [
    {
     "name": "stdout",
     "output_type": "stream",
     "text": [
      "add(x1, x2, /, out=None, *, where=True, casting='same_kind', order='K', dtype=None, subok=True[, signature, extobj])\n",
      "\n",
      "Add arguments element-wise.\n",
      "\n",
      "Parameters\n",
      "----------\n",
      "x1, x2 : array_like\n",
      "    The arrays to be added.\n",
      "    If ``x1.shape != x2.shape``, they must be broadcastable to a common\n",
      "    shape (which becomes the shape of the output).\n",
      "out : ndarray, None, or tuple of ndarray and None, optional\n",
      "    A location into which the result is stored. If provided, it must have\n",
      "    a shape that the inputs broadcast to. If not provided or None,\n",
      "    a freshly-allocated array is returned. A tuple (possible only as a\n",
      "    keyword argument) must have length equal to the number of outputs.\n",
      "where : array_like, optional\n",
      "    This condition is broadcast over the input. At locations where the\n",
      "    condition is True, the `out` array will be set to the ufunc result.\n",
      "    Elsewhere, the `out` array will retain its original value.\n",
      "    Note that if an uninitialized `out` array is created via the default\n",
      "    ``out=None``, locations within it where the condition is False will\n",
      "    remain uninitialized.\n",
      "**kwargs\n",
      "    For other keyword-only arguments, see the\n",
      "    :ref:`ufunc docs <ufuncs.kwargs>`.\n",
      "\n",
      "Returns\n",
      "-------\n",
      "add : ndarray or scalar\n",
      "    The sum of `x1` and `x2`, element-wise.\n",
      "    This is a scalar if both `x1` and `x2` are scalars.\n",
      "\n",
      "Notes\n",
      "-----\n",
      "Equivalent to `x1` + `x2` in terms of array broadcasting.\n",
      "\n",
      "Examples\n",
      "--------\n",
      ">>> np.add(1.0, 4.0)\n",
      "5.0\n",
      ">>> x1 = np.arange(9.0).reshape((3, 3))\n",
      ">>> x2 = np.arange(3.0)\n",
      ">>> np.add(x1, x2)\n",
      "array([[  0.,   2.,   4.],\n",
      "       [  3.,   5.,   7.],\n",
      "       [  6.,   8.,  10.]])\n",
      "\n",
      "The ``+`` operator can be used as a shorthand for ``np.add`` on ndarrays.\n",
      "\n",
      ">>> x1 = np.arange(9.0).reshape((3, 3))\n",
      ">>> x2 = np.arange(3.0)\n",
      ">>> x1 + x2\n",
      "array([[ 0.,  2.,  4.],\n",
      "       [ 3.,  5.,  7.],\n",
      "       [ 6.,  8., 10.]])\n",
      "None\n"
     ]
    }
   ],
   "source": [
    "import numpy as np\n",
    "print(np.info(np.add))"
   ]
  },
  {
   "cell_type": "markdown",
   "id": "30302d85",
   "metadata": {},
   "source": [
    "# 3. Напишите программу NumPy, чтобы проверить, является ли ни один из элементов данного массива нулевым."
   ]
  },
  {
   "cell_type": "code",
   "execution_count": 11,
   "id": "4a09eb59",
   "metadata": {},
   "outputs": [
    {
     "name": "stdout",
     "output_type": "stream",
     "text": [
      "Test if none of the elements of the said array is zero:\n",
      "False\n"
     ]
    }
   ],
   "source": [
    "import numpy as np\n",
    "e = np.array([2, 6, 0, 45, 93])\n",
    "print(\"Проверить, что ни один из элементов указанного массива не равен нулю:\")\n",
    "print(np.all(e))"
   ]
  },
  {
   "cell_type": "markdown",
   "id": "f751f398",
   "metadata": {},
   "source": [
    "# 4. Напишите программу NumPy, чтобы проверить, является ли какой-либо из элементов данного массива ненулевым. "
   ]
  },
  {
   "cell_type": "code",
   "execution_count": 13,
   "id": "d5b2394c",
   "metadata": {},
   "outputs": [
    {
     "name": "stdout",
     "output_type": "stream",
     "text": [
      "Test if any of the elements of a given array is non-zero:\n",
      "True\n"
     ]
    }
   ],
   "source": [
    "import numpy as np\n",
    "d = np.array([0, 0, 0, 0, 5, 0, 0])\n",
    "print(\"Проверьте, не является ли какой-либо из элементов данного массива ненулевым:\")\n",
    "print(np.any(d))"
   ]
  },
  {
   "cell_type": "markdown",
   "id": "647a3e6a",
   "metadata": {},
   "source": [
    "# 5. Напишите программу NumPy для проверки заданного массива по элементам на конечность (не бесконечность или не число)."
   ]
  },
  {
   "cell_type": "code",
   "execution_count": 15,
   "id": "cfb8b077",
   "metadata": {},
   "outputs": [
    {
     "name": "stdout",
     "output_type": "stream",
     "text": [
      "Test a given array element-wise for finiteness :\n",
      "[ True False  True  True False]\n"
     ]
    }
   ],
   "source": [
    "import numpy as np\n",
    "w = np.array([3, np.Inf, 7, 123, np.NINF]) # np.Inf - положительная бесконечность с плавующей запятой, np.NINF- отрицательная бесконечность с плавующей запятой.\n",
    "print(\"Проверьте заданный массив поэлементно на конечность:\")\n",
    "print(np.isfinite(w))"
   ]
  },
  {
   "cell_type": "markdown",
   "id": "f4061f0c",
   "metadata": {},
   "source": [
    "# 6. Напишите программу NumPy для поэлементного тестирования на положительную или отрицательную бесконечность."
   ]
  },
  {
   "cell_type": "code",
   "execution_count": 17,
   "id": "0ba390c3",
   "metadata": {},
   "outputs": [
    {
     "name": "stdout",
     "output_type": "stream",
     "text": [
      "Test element-wise for positive or negative infinity:\n",
      "[False False False False]\n"
     ]
    }
   ],
   "source": [
    "import numpy as np\n",
    "o = np.array([6, 9, np.nan, 89]) #np.nan - число с плавующей запятой\n",
    "print(\"Поэлементный тест на положительную или отрицательную бесконечность:\")\n",
    "print(np.isinf(o))"
   ]
  },
  {
   "cell_type": "markdown",
   "id": "54504410",
   "metadata": {},
   "source": [
    "# 7. Напишите программу NumPy для поэлементного тестирования NaN данного массива."
   ]
  },
  {
   "cell_type": "code",
   "execution_count": 19,
   "id": "cad037e4",
   "metadata": {},
   "outputs": [
    {
     "name": "stdout",
     "output_type": "stream",
     "text": [
      "Test element-wise for NaN:\n",
      "[False False  True False  True False]\n"
     ]
    }
   ],
   "source": [
    "import numpy as np\n",
    "r =np.array([3, 8, np.nan, 5, np.nan, np.inf])\n",
    "print(\"Поэлементный тест для NaN:\")\n",
    "print(np.isnan(r))"
   ]
  },
  {
   "cell_type": "markdown",
   "id": "02d9f584",
   "metadata": {},
   "source": [
    "# 8. Напишите программу NumPy для поэлементного тестирования комплексного числа, действительного числа данного массива. Также проверьте, является ли данное число скалярным типом или нет."
   ]
  },
  {
   "cell_type": "code",
   "execution_count": 26,
   "id": "255a41fc",
   "metadata": {},
   "outputs": [
    {
     "name": "stdout",
     "output_type": "stream",
     "text": [
      "Checking for complex number:\n",
      "[False  True False  True False]\n",
      "Checking for real number:\n",
      "[ True False  True False  True]\n",
      "Checking for scalar type:\n",
      "True\n",
      "False\n"
     ]
    }
   ],
   "source": [
    "import numpy as np\n",
    "t =np.array([3, 56 + 1j, 4, 78j, 2.1])\n",
    "print(\"Проверка на комплексное число:\")\n",
    "print(np.iscomplex(t))\n",
    "print(\"Проверка на реальный номер:\")\n",
    "print(np.isreal(t))\n",
    "print(\"Проверка на скалярный тип:\")\n",
    "print(np.isscalar(2.1))\n",
    "print(np.isscalar([56 + 1j]))"
   ]
  },
  {
   "cell_type": "markdown",
   "id": "80e9b2c4",
   "metadata": {},
   "source": [
    "# 9. Напишите программу NumPy, чтобы проверить, являются ли два массива поэлементно равными в пределах допуска."
   ]
  },
  {
   "cell_type": "code",
   "execution_count": 28,
   "id": "ecdf030c",
   "metadata": {},
   "outputs": [
    {
     "name": "stdout",
     "output_type": "stream",
     "text": [
      "Проверьте, являются ли два массива поэлементно равными в пределах допуска: \n",
      "False\n",
      "False\n"
     ]
    }
   ],
   "source": [
    "import numpy as np\n",
    "print(\"Проверьте, являются ли два массива поэлементно равными в пределах допуска: \")\n",
    "print(np.allclose([89e321, 67e-9], [859.6844e4725454, 4e-56]))\n",
    "print(np.allclose([654e23, 7e-1], [3.5437e999, 14.790e3729]))"
   ]
  },
  {
   "cell_type": "markdown",
   "id": "a7fda111",
   "metadata": {},
   "source": [
    "# 10. Напишите программу NumPy для создания поэлементного сравнения (больший, больший, меньший и меньший) двух заданных массивов."
   ]
  },
  {
   "cell_type": "code",
   "execution_count": 29,
   "id": "17ed5e13",
   "metadata": {},
   "outputs": [
    {
     "name": "stdout",
     "output_type": "stream",
     "text": [
      "Сравнение - больший\n",
      "[False  True  True]\n",
      "Сравнение - больший_эквивалент\n",
      "[False  True  True]\n",
      "Сравнение - меньший\n",
      "[ True False False]\n",
      "Сравнение - меньший_эквивалент\n",
      "[ True False False]\n"
     ]
    }
   ],
   "source": [
    "import numpy as np\n",
    "d =np.array([3, 64, 8])\n",
    "g =np.array([34, 7, 5])\n",
    "print(\"Сравнение - больший\")\n",
    "print(np.greater(d, g))\n",
    "print(\"Сравнение - больший_эквивалент\")\n",
    "print(np.greater_equal(d, g))\n",
    "print(\"Сравнение - меньший\")\n",
    "print(np.less(d, g))\n",
    "print(\"Сравнение - меньший_эквивалент\")\n",
    "print(np.less_equal(d, g))"
   ]
  }
 ],
 "metadata": {
  "kernelspec": {
   "display_name": "Python 3",
   "language": "python",
   "name": "python3"
  },
  "language_info": {
   "codemirror_mode": {
    "name": "ipython",
    "version": 3
   },
   "file_extension": ".py",
   "mimetype": "text/x-python",
   "name": "python",
   "nbconvert_exporter": "python",
   "pygments_lexer": "ipython3",
   "version": "3.8.8"
  }
 },
 "nbformat": 4,
 "nbformat_minor": 5
}
